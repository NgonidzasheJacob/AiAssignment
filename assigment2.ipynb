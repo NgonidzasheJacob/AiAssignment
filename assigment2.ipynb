{
  "nbformat": 4,
  "nbformat_minor": 0,
  "metadata": {
    "colab": {
      "name": "assigment2.ipynb",
      "provenance": [],
      "collapsed_sections": [],
      "include_colab_link": true
    },
    "kernelspec": {
      "display_name": "Python 3",
      "language": "python",
      "name": "python3"
    },
    "language_info": {
      "codemirror_mode": {
        "name": "ipython",
        "version": 3
      },
      "file_extension": ".py",
      "mimetype": "text/x-python",
      "name": "python",
      "nbconvert_exporter": "python",
      "pygments_lexer": "ipython3",
      "version": "3.8.5"
    }
  },
  "cells": [
    {
      "cell_type": "markdown",
      "metadata": {
        "id": "view-in-github",
        "colab_type": "text"
      },
      "source": [
        "<a href=\"https://colab.research.google.com/github/NgonidzasheJacob/AiAssignment/blob/main/assigment2.ipynb\" target=\"_parent\"><img src=\"https://colab.research.google.com/assets/colab-badge.svg\" alt=\"Open In Colab\"/></a>"
      ]
    },
    {
      "cell_type": "markdown",
      "metadata": {
        "id": "nmdoNG3IGQl9"
      },
      "source": [
        "# R187470B\n",
        "## Nyasha D. Chiroro\n",
        "### Assigment 2\n",
        "\n",
        "### Link to the application\n",
        "[https://streamlit-churn.herokuapp.com/](https://streamlit-churn.herokuapp.com/)\n",
        "### Note: The application may take time to start as it will be on idle\n",
        "\n",
        "### Link to the assignment's GitHub repository\n",
        "[https://github.com/LeCodeAlchemist/ai_assignment_2](https://github.com/LeCodeAlchemist/ai_assignment_2)\n",
        "\n",
        "### Link to explanation video on Google Drive\n",
        "[https://drive.google.com/file/d/1nfGn9OYVubim7KSYH2tuc3xwi4o_muqT/view?usp=sharing](https://drive.google.com/file/d/1nfGn9OYVubim7KSYH2tuc3xwi4o_muqT/view?usp=sharing)"
      ]
    },
    {
      "cell_type": "markdown",
      "metadata": {
        "id": "FB194VimGQmH"
      },
      "source": [
        "# Importing required libraries"
      ]
    },
    {
      "cell_type": "code",
      "metadata": {
        "id": "ECjN4dGDGQmK"
      },
      "source": [
        "import numpy as np # for linear algebra, calculating mean, standard deviation etc\n",
        "import pandas as pd # load and manipulate data for One-Hot Encoding, data processing, CSV file I/O\n",
        "import seaborn as sns # for creating plots\n",
        "import matplotlib.ticker as mtick # For specifying the axes tick format \n",
        "import matplotlib.pyplot as plt\n",
        "import xgboost as xgb # XGBoost stuff\n",
        "from sklearn.model_selection import train_test_split # split the data into training and testing sets\n",
        "from sklearn.metrics import balanced_accuracy_score, roc_auc_score, make_scorer \n",
        "from sklearn.model_selection import GridSearchCV # cross validation\n",
        "from sklearn.metrics import confusion_matrix # creates a confusion matrix\n",
        "from sklearn.metrics import plot_confusion_matrix # draws the confusion matrix\n",
        "\n",
        "sns.set(style = 'white')"
      ],
      "execution_count": 6,
      "outputs": []
    },
    {
      "cell_type": "code",
      "metadata": {
        "colab": {
          "base_uri": "https://localhost:8080/"
        },
        "id": "TuhvMB8WIO8z",
        "outputId": "33e06747-13fc-4971-89e6-27d6cfcd6f89"
      },
      "source": [
        "!pip install dython"
      ],
      "execution_count": 7,
      "outputs": [
        {
          "output_type": "stream",
          "text": [
            "Collecting dython\n",
            "  Downloading https://files.pythonhosted.org/packages/6a/d3/8947cb2428450074f5c44509284f8c8fedb129e25083f50c80d89076c0d3/dython-0.6.6-py3-none-any.whl\n",
            "Collecting scikit-plot>=0.3.7\n",
            "  Downloading https://files.pythonhosted.org/packages/7c/47/32520e259340c140a4ad27c1b97050dd3254fdc517b1d59974d47037510e/scikit_plot-0.3.7-py3-none-any.whl\n",
            "Requirement already satisfied: scikit-learn in /usr/local/lib/python3.7/dist-packages (from dython) (0.22.2.post1)\n",
            "Requirement already satisfied: pandas>=0.23.4 in /usr/local/lib/python3.7/dist-packages (from dython) (1.1.5)\n",
            "Requirement already satisfied: scipy in /usr/local/lib/python3.7/dist-packages (from dython) (1.4.1)\n",
            "Requirement already satisfied: numpy in /usr/local/lib/python3.7/dist-packages (from dython) (1.19.5)\n",
            "Requirement already satisfied: seaborn in /usr/local/lib/python3.7/dist-packages (from dython) (0.11.1)\n",
            "Requirement already satisfied: matplotlib in /usr/local/lib/python3.7/dist-packages (from dython) (3.2.2)\n",
            "Requirement already satisfied: joblib>=0.10 in /usr/local/lib/python3.7/dist-packages (from scikit-plot>=0.3.7->dython) (1.0.1)\n",
            "Requirement already satisfied: python-dateutil>=2.7.3 in /usr/local/lib/python3.7/dist-packages (from pandas>=0.23.4->dython) (2.8.1)\n",
            "Requirement already satisfied: pytz>=2017.2 in /usr/local/lib/python3.7/dist-packages (from pandas>=0.23.4->dython) (2018.9)\n",
            "Requirement already satisfied: pyparsing!=2.0.4,!=2.1.2,!=2.1.6,>=2.0.1 in /usr/local/lib/python3.7/dist-packages (from matplotlib->dython) (2.4.7)\n",
            "Requirement already satisfied: cycler>=0.10 in /usr/local/lib/python3.7/dist-packages (from matplotlib->dython) (0.10.0)\n",
            "Requirement already satisfied: kiwisolver>=1.0.1 in /usr/local/lib/python3.7/dist-packages (from matplotlib->dython) (1.3.1)\n",
            "Requirement already satisfied: six>=1.5 in /usr/local/lib/python3.7/dist-packages (from python-dateutil>=2.7.3->pandas>=0.23.4->dython) (1.15.0)\n",
            "Installing collected packages: scikit-plot, dython\n",
            "Successfully installed dython-0.6.6 scikit-plot-0.3.7\n"
          ],
          "name": "stdout"
        }
      ]
    },
    {
      "cell_type": "code",
      "metadata": {
        "colab": {
          "base_uri": "https://localhost:8080/"
        },
        "id": "QXYqNKQYHDJZ",
        "outputId": "1d1dc391-5ae7-4833-f22e-9ed1d12844b0"
      },
      "source": [
        "#data import from drive\n",
        "from google.colab import drive\n",
        "drive.mount('/content/drive')"
      ],
      "execution_count": 8,
      "outputs": [
        {
          "output_type": "stream",
          "text": [
            "Drive already mounted at /content/drive; to attempt to forcibly remount, call drive.mount(\"/content/drive\", force_remount=True).\n"
          ],
          "name": "stdout"
        }
      ]
    },
    {
      "cell_type": "code",
      "metadata": {
        "id": "taBSOCpgGQmR",
        "colab": {
          "base_uri": "https://localhost:8080/",
          "height": 309
        },
        "outputId": "929c9f77-51b5-435f-9fe0-baa622158f22"
      },
      "source": [
        "dataframe = pd.read_csv('/content/drive/MyDrive/Colab Notebooks/assign2/datasets_13996_18858_WA_Fn-UseC_-Telco-Customer-Churn.csv')\n",
        "dataframe.head()"
      ],
      "execution_count": 9,
      "outputs": [
        {
          "output_type": "execute_result",
          "data": {
            "text/html": [
              "<div>\n",
              "<style scoped>\n",
              "    .dataframe tbody tr th:only-of-type {\n",
              "        vertical-align: middle;\n",
              "    }\n",
              "\n",
              "    .dataframe tbody tr th {\n",
              "        vertical-align: top;\n",
              "    }\n",
              "\n",
              "    .dataframe thead th {\n",
              "        text-align: right;\n",
              "    }\n",
              "</style>\n",
              "<table border=\"1\" class=\"dataframe\">\n",
              "  <thead>\n",
              "    <tr style=\"text-align: right;\">\n",
              "      <th></th>\n",
              "      <th>customerID</th>\n",
              "      <th>gender</th>\n",
              "      <th>SeniorCitizen</th>\n",
              "      <th>Partner</th>\n",
              "      <th>Dependents</th>\n",
              "      <th>tenure</th>\n",
              "      <th>PhoneService</th>\n",
              "      <th>MultipleLines</th>\n",
              "      <th>InternetService</th>\n",
              "      <th>OnlineSecurity</th>\n",
              "      <th>OnlineBackup</th>\n",
              "      <th>DeviceProtection</th>\n",
              "      <th>TechSupport</th>\n",
              "      <th>StreamingTV</th>\n",
              "      <th>StreamingMovies</th>\n",
              "      <th>Contract</th>\n",
              "      <th>PaperlessBilling</th>\n",
              "      <th>PaymentMethod</th>\n",
              "      <th>MonthlyCharges</th>\n",
              "      <th>TotalCharges</th>\n",
              "      <th>Churn</th>\n",
              "    </tr>\n",
              "  </thead>\n",
              "  <tbody>\n",
              "    <tr>\n",
              "      <th>0</th>\n",
              "      <td>7590-VHVEG</td>\n",
              "      <td>Female</td>\n",
              "      <td>0</td>\n",
              "      <td>Yes</td>\n",
              "      <td>No</td>\n",
              "      <td>1</td>\n",
              "      <td>No</td>\n",
              "      <td>No phone service</td>\n",
              "      <td>DSL</td>\n",
              "      <td>No</td>\n",
              "      <td>Yes</td>\n",
              "      <td>No</td>\n",
              "      <td>No</td>\n",
              "      <td>No</td>\n",
              "      <td>No</td>\n",
              "      <td>Month-to-month</td>\n",
              "      <td>Yes</td>\n",
              "      <td>Electronic check</td>\n",
              "      <td>29.85</td>\n",
              "      <td>29.85</td>\n",
              "      <td>No</td>\n",
              "    </tr>\n",
              "    <tr>\n",
              "      <th>1</th>\n",
              "      <td>5575-GNVDE</td>\n",
              "      <td>Male</td>\n",
              "      <td>0</td>\n",
              "      <td>No</td>\n",
              "      <td>No</td>\n",
              "      <td>34</td>\n",
              "      <td>Yes</td>\n",
              "      <td>No</td>\n",
              "      <td>DSL</td>\n",
              "      <td>Yes</td>\n",
              "      <td>No</td>\n",
              "      <td>Yes</td>\n",
              "      <td>No</td>\n",
              "      <td>No</td>\n",
              "      <td>No</td>\n",
              "      <td>One year</td>\n",
              "      <td>No</td>\n",
              "      <td>Mailed check</td>\n",
              "      <td>56.95</td>\n",
              "      <td>1889.5</td>\n",
              "      <td>No</td>\n",
              "    </tr>\n",
              "    <tr>\n",
              "      <th>2</th>\n",
              "      <td>3668-QPYBK</td>\n",
              "      <td>Male</td>\n",
              "      <td>0</td>\n",
              "      <td>No</td>\n",
              "      <td>No</td>\n",
              "      <td>2</td>\n",
              "      <td>Yes</td>\n",
              "      <td>No</td>\n",
              "      <td>DSL</td>\n",
              "      <td>Yes</td>\n",
              "      <td>Yes</td>\n",
              "      <td>No</td>\n",
              "      <td>No</td>\n",
              "      <td>No</td>\n",
              "      <td>No</td>\n",
              "      <td>Month-to-month</td>\n",
              "      <td>Yes</td>\n",
              "      <td>Mailed check</td>\n",
              "      <td>53.85</td>\n",
              "      <td>108.15</td>\n",
              "      <td>Yes</td>\n",
              "    </tr>\n",
              "    <tr>\n",
              "      <th>3</th>\n",
              "      <td>7795-CFOCW</td>\n",
              "      <td>Male</td>\n",
              "      <td>0</td>\n",
              "      <td>No</td>\n",
              "      <td>No</td>\n",
              "      <td>45</td>\n",
              "      <td>No</td>\n",
              "      <td>No phone service</td>\n",
              "      <td>DSL</td>\n",
              "      <td>Yes</td>\n",
              "      <td>No</td>\n",
              "      <td>Yes</td>\n",
              "      <td>Yes</td>\n",
              "      <td>No</td>\n",
              "      <td>No</td>\n",
              "      <td>One year</td>\n",
              "      <td>No</td>\n",
              "      <td>Bank transfer (automatic)</td>\n",
              "      <td>42.30</td>\n",
              "      <td>1840.75</td>\n",
              "      <td>No</td>\n",
              "    </tr>\n",
              "    <tr>\n",
              "      <th>4</th>\n",
              "      <td>9237-HQITU</td>\n",
              "      <td>Female</td>\n",
              "      <td>0</td>\n",
              "      <td>No</td>\n",
              "      <td>No</td>\n",
              "      <td>2</td>\n",
              "      <td>Yes</td>\n",
              "      <td>No</td>\n",
              "      <td>Fiber optic</td>\n",
              "      <td>No</td>\n",
              "      <td>No</td>\n",
              "      <td>No</td>\n",
              "      <td>No</td>\n",
              "      <td>No</td>\n",
              "      <td>No</td>\n",
              "      <td>Month-to-month</td>\n",
              "      <td>Yes</td>\n",
              "      <td>Electronic check</td>\n",
              "      <td>70.70</td>\n",
              "      <td>151.65</td>\n",
              "      <td>Yes</td>\n",
              "    </tr>\n",
              "  </tbody>\n",
              "</table>\n",
              "</div>"
            ],
            "text/plain": [
              "   customerID  gender  SeniorCitizen  ... MonthlyCharges TotalCharges  Churn\n",
              "0  7590-VHVEG  Female              0  ...          29.85        29.85     No\n",
              "1  5575-GNVDE    Male              0  ...          56.95       1889.5     No\n",
              "2  3668-QPYBK    Male              0  ...          53.85       108.15    Yes\n",
              "3  7795-CFOCW    Male              0  ...          42.30      1840.75     No\n",
              "4  9237-HQITU  Female              0  ...          70.70       151.65    Yes\n",
              "\n",
              "[5 rows x 21 columns]"
            ]
          },
          "metadata": {
            "tags": []
          },
          "execution_count": 9
        }
      ]
    },
    {
      "cell_type": "markdown",
      "metadata": {
        "id": "lw3jy2rGGQmS"
      },
      "source": [
        "dataframe.head()"
      ]
    },
    {
      "cell_type": "code",
      "metadata": {
        "colab": {
          "base_uri": "https://localhost:8080/"
        },
        "id": "mpZvdBPFGQmY",
        "outputId": "beebd0dd-15dd-423b-f799-a70de3ad0183"
      },
      "source": [
        "dataframe.columns.values"
      ],
      "execution_count": 10,
      "outputs": [
        {
          "output_type": "execute_result",
          "data": {
            "text/plain": [
              "array(['customerID', 'gender', 'SeniorCitizen', 'Partner', 'Dependents',\n",
              "       'tenure', 'PhoneService', 'MultipleLines', 'InternetService',\n",
              "       'OnlineSecurity', 'OnlineBackup', 'DeviceProtection',\n",
              "       'TechSupport', 'StreamingTV', 'StreamingMovies', 'Contract',\n",
              "       'PaperlessBilling', 'PaymentMethod', 'MonthlyCharges',\n",
              "       'TotalCharges', 'Churn'], dtype=object)"
            ]
          },
          "metadata": {
            "tags": []
          },
          "execution_count": 10
        }
      ]
    },
    {
      "cell_type": "code",
      "metadata": {
        "colab": {
          "base_uri": "https://localhost:8080/"
        },
        "id": "Dg_L5Ay0GQmg",
        "outputId": "55a9dbbb-9771-48a6-ce94-f1f81f44e590"
      },
      "source": [
        "#viewing datatypes\n",
        "dataframe.dtypes"
      ],
      "execution_count": 11,
      "outputs": [
        {
          "output_type": "execute_result",
          "data": {
            "text/plain": [
              "customerID           object\n",
              "gender               object\n",
              "SeniorCitizen         int64\n",
              "Partner              object\n",
              "Dependents           object\n",
              "tenure                int64\n",
              "PhoneService         object\n",
              "MultipleLines        object\n",
              "InternetService      object\n",
              "OnlineSecurity       object\n",
              "OnlineBackup         object\n",
              "DeviceProtection     object\n",
              "TechSupport          object\n",
              "StreamingTV          object\n",
              "StreamingMovies      object\n",
              "Contract             object\n",
              "PaperlessBilling     object\n",
              "PaymentMethod        object\n",
              "MonthlyCharges      float64\n",
              "TotalCharges         object\n",
              "Churn                object\n",
              "dtype: object"
            ]
          },
          "metadata": {
            "tags": []
          },
          "execution_count": 11
        }
      ]
    },
    {
      "cell_type": "code",
      "metadata": {
        "id": "VtIrf9BgGQmk"
      },
      "source": [
        "#setting totalcharges datatype to numeric\n",
        "dataframe.TotalCharges =  pd.to_numeric(dataframe.TotalCharges, errors='coerce')\n"
      ],
      "execution_count": 12,
      "outputs": []
    },
    {
      "cell_type": "code",
      "metadata": {
        "colab": {
          "base_uri": "https://localhost:8080/"
        },
        "id": "RGtmSKq6GQmm",
        "outputId": "4b606e31-df46-46c4-9197-62dc1e164cc9"
      },
      "source": [
        "#check for all missing values\n",
        "dataframe.isnull().sum()"
      ],
      "execution_count": 13,
      "outputs": [
        {
          "output_type": "execute_result",
          "data": {
            "text/plain": [
              "customerID           0\n",
              "gender               0\n",
              "SeniorCitizen        0\n",
              "Partner              0\n",
              "Dependents           0\n",
              "tenure               0\n",
              "PhoneService         0\n",
              "MultipleLines        0\n",
              "InternetService      0\n",
              "OnlineSecurity       0\n",
              "OnlineBackup         0\n",
              "DeviceProtection     0\n",
              "TechSupport          0\n",
              "StreamingTV          0\n",
              "StreamingMovies      0\n",
              "Contract             0\n",
              "PaperlessBilling     0\n",
              "PaymentMethod        0\n",
              "MonthlyCharges       0\n",
              "TotalCharges        11\n",
              "Churn                0\n",
              "dtype: int64"
            ]
          },
          "metadata": {
            "tags": []
          },
          "execution_count": 13
        }
      ]
    },
    {
      "cell_type": "code",
      "metadata": {
        "colab": {
          "base_uri": "https://localhost:8080/",
          "height": 597
        },
        "id": "j1E3dj51GQmp",
        "outputId": "cff7f99d-a51b-4d06-b30d-5ad76a46f586"
      },
      "source": [
        "dataframe.loc[dataframe.TotalCharges.isnull()]"
      ],
      "execution_count": 14,
      "outputs": [
        {
          "output_type": "execute_result",
          "data": {
            "text/html": [
              "<div>\n",
              "<style scoped>\n",
              "    .dataframe tbody tr th:only-of-type {\n",
              "        vertical-align: middle;\n",
              "    }\n",
              "\n",
              "    .dataframe tbody tr th {\n",
              "        vertical-align: top;\n",
              "    }\n",
              "\n",
              "    .dataframe thead th {\n",
              "        text-align: right;\n",
              "    }\n",
              "</style>\n",
              "<table border=\"1\" class=\"dataframe\">\n",
              "  <thead>\n",
              "    <tr style=\"text-align: right;\">\n",
              "      <th></th>\n",
              "      <th>customerID</th>\n",
              "      <th>gender</th>\n",
              "      <th>SeniorCitizen</th>\n",
              "      <th>Partner</th>\n",
              "      <th>Dependents</th>\n",
              "      <th>tenure</th>\n",
              "      <th>PhoneService</th>\n",
              "      <th>MultipleLines</th>\n",
              "      <th>InternetService</th>\n",
              "      <th>OnlineSecurity</th>\n",
              "      <th>OnlineBackup</th>\n",
              "      <th>DeviceProtection</th>\n",
              "      <th>TechSupport</th>\n",
              "      <th>StreamingTV</th>\n",
              "      <th>StreamingMovies</th>\n",
              "      <th>Contract</th>\n",
              "      <th>PaperlessBilling</th>\n",
              "      <th>PaymentMethod</th>\n",
              "      <th>MonthlyCharges</th>\n",
              "      <th>TotalCharges</th>\n",
              "      <th>Churn</th>\n",
              "    </tr>\n",
              "  </thead>\n",
              "  <tbody>\n",
              "    <tr>\n",
              "      <th>488</th>\n",
              "      <td>4472-LVYGI</td>\n",
              "      <td>Female</td>\n",
              "      <td>0</td>\n",
              "      <td>Yes</td>\n",
              "      <td>Yes</td>\n",
              "      <td>0</td>\n",
              "      <td>No</td>\n",
              "      <td>No phone service</td>\n",
              "      <td>DSL</td>\n",
              "      <td>Yes</td>\n",
              "      <td>No</td>\n",
              "      <td>Yes</td>\n",
              "      <td>Yes</td>\n",
              "      <td>Yes</td>\n",
              "      <td>No</td>\n",
              "      <td>Two year</td>\n",
              "      <td>Yes</td>\n",
              "      <td>Bank transfer (automatic)</td>\n",
              "      <td>52.55</td>\n",
              "      <td>NaN</td>\n",
              "      <td>No</td>\n",
              "    </tr>\n",
              "    <tr>\n",
              "      <th>753</th>\n",
              "      <td>3115-CZMZD</td>\n",
              "      <td>Male</td>\n",
              "      <td>0</td>\n",
              "      <td>No</td>\n",
              "      <td>Yes</td>\n",
              "      <td>0</td>\n",
              "      <td>Yes</td>\n",
              "      <td>No</td>\n",
              "      <td>No</td>\n",
              "      <td>No internet service</td>\n",
              "      <td>No internet service</td>\n",
              "      <td>No internet service</td>\n",
              "      <td>No internet service</td>\n",
              "      <td>No internet service</td>\n",
              "      <td>No internet service</td>\n",
              "      <td>Two year</td>\n",
              "      <td>No</td>\n",
              "      <td>Mailed check</td>\n",
              "      <td>20.25</td>\n",
              "      <td>NaN</td>\n",
              "      <td>No</td>\n",
              "    </tr>\n",
              "    <tr>\n",
              "      <th>936</th>\n",
              "      <td>5709-LVOEQ</td>\n",
              "      <td>Female</td>\n",
              "      <td>0</td>\n",
              "      <td>Yes</td>\n",
              "      <td>Yes</td>\n",
              "      <td>0</td>\n",
              "      <td>Yes</td>\n",
              "      <td>No</td>\n",
              "      <td>DSL</td>\n",
              "      <td>Yes</td>\n",
              "      <td>Yes</td>\n",
              "      <td>Yes</td>\n",
              "      <td>No</td>\n",
              "      <td>Yes</td>\n",
              "      <td>Yes</td>\n",
              "      <td>Two year</td>\n",
              "      <td>No</td>\n",
              "      <td>Mailed check</td>\n",
              "      <td>80.85</td>\n",
              "      <td>NaN</td>\n",
              "      <td>No</td>\n",
              "    </tr>\n",
              "    <tr>\n",
              "      <th>1082</th>\n",
              "      <td>4367-NUYAO</td>\n",
              "      <td>Male</td>\n",
              "      <td>0</td>\n",
              "      <td>Yes</td>\n",
              "      <td>Yes</td>\n",
              "      <td>0</td>\n",
              "      <td>Yes</td>\n",
              "      <td>Yes</td>\n",
              "      <td>No</td>\n",
              "      <td>No internet service</td>\n",
              "      <td>No internet service</td>\n",
              "      <td>No internet service</td>\n",
              "      <td>No internet service</td>\n",
              "      <td>No internet service</td>\n",
              "      <td>No internet service</td>\n",
              "      <td>Two year</td>\n",
              "      <td>No</td>\n",
              "      <td>Mailed check</td>\n",
              "      <td>25.75</td>\n",
              "      <td>NaN</td>\n",
              "      <td>No</td>\n",
              "    </tr>\n",
              "    <tr>\n",
              "      <th>1340</th>\n",
              "      <td>1371-DWPAZ</td>\n",
              "      <td>Female</td>\n",
              "      <td>0</td>\n",
              "      <td>Yes</td>\n",
              "      <td>Yes</td>\n",
              "      <td>0</td>\n",
              "      <td>No</td>\n",
              "      <td>No phone service</td>\n",
              "      <td>DSL</td>\n",
              "      <td>Yes</td>\n",
              "      <td>Yes</td>\n",
              "      <td>Yes</td>\n",
              "      <td>Yes</td>\n",
              "      <td>Yes</td>\n",
              "      <td>No</td>\n",
              "      <td>Two year</td>\n",
              "      <td>No</td>\n",
              "      <td>Credit card (automatic)</td>\n",
              "      <td>56.05</td>\n",
              "      <td>NaN</td>\n",
              "      <td>No</td>\n",
              "    </tr>\n",
              "    <tr>\n",
              "      <th>3331</th>\n",
              "      <td>7644-OMVMY</td>\n",
              "      <td>Male</td>\n",
              "      <td>0</td>\n",
              "      <td>Yes</td>\n",
              "      <td>Yes</td>\n",
              "      <td>0</td>\n",
              "      <td>Yes</td>\n",
              "      <td>No</td>\n",
              "      <td>No</td>\n",
              "      <td>No internet service</td>\n",
              "      <td>No internet service</td>\n",
              "      <td>No internet service</td>\n",
              "      <td>No internet service</td>\n",
              "      <td>No internet service</td>\n",
              "      <td>No internet service</td>\n",
              "      <td>Two year</td>\n",
              "      <td>No</td>\n",
              "      <td>Mailed check</td>\n",
              "      <td>19.85</td>\n",
              "      <td>NaN</td>\n",
              "      <td>No</td>\n",
              "    </tr>\n",
              "    <tr>\n",
              "      <th>3826</th>\n",
              "      <td>3213-VVOLG</td>\n",
              "      <td>Male</td>\n",
              "      <td>0</td>\n",
              "      <td>Yes</td>\n",
              "      <td>Yes</td>\n",
              "      <td>0</td>\n",
              "      <td>Yes</td>\n",
              "      <td>Yes</td>\n",
              "      <td>No</td>\n",
              "      <td>No internet service</td>\n",
              "      <td>No internet service</td>\n",
              "      <td>No internet service</td>\n",
              "      <td>No internet service</td>\n",
              "      <td>No internet service</td>\n",
              "      <td>No internet service</td>\n",
              "      <td>Two year</td>\n",
              "      <td>No</td>\n",
              "      <td>Mailed check</td>\n",
              "      <td>25.35</td>\n",
              "      <td>NaN</td>\n",
              "      <td>No</td>\n",
              "    </tr>\n",
              "    <tr>\n",
              "      <th>4380</th>\n",
              "      <td>2520-SGTTA</td>\n",
              "      <td>Female</td>\n",
              "      <td>0</td>\n",
              "      <td>Yes</td>\n",
              "      <td>Yes</td>\n",
              "      <td>0</td>\n",
              "      <td>Yes</td>\n",
              "      <td>No</td>\n",
              "      <td>No</td>\n",
              "      <td>No internet service</td>\n",
              "      <td>No internet service</td>\n",
              "      <td>No internet service</td>\n",
              "      <td>No internet service</td>\n",
              "      <td>No internet service</td>\n",
              "      <td>No internet service</td>\n",
              "      <td>Two year</td>\n",
              "      <td>No</td>\n",
              "      <td>Mailed check</td>\n",
              "      <td>20.00</td>\n",
              "      <td>NaN</td>\n",
              "      <td>No</td>\n",
              "    </tr>\n",
              "    <tr>\n",
              "      <th>5218</th>\n",
              "      <td>2923-ARZLG</td>\n",
              "      <td>Male</td>\n",
              "      <td>0</td>\n",
              "      <td>Yes</td>\n",
              "      <td>Yes</td>\n",
              "      <td>0</td>\n",
              "      <td>Yes</td>\n",
              "      <td>No</td>\n",
              "      <td>No</td>\n",
              "      <td>No internet service</td>\n",
              "      <td>No internet service</td>\n",
              "      <td>No internet service</td>\n",
              "      <td>No internet service</td>\n",
              "      <td>No internet service</td>\n",
              "      <td>No internet service</td>\n",
              "      <td>One year</td>\n",
              "      <td>Yes</td>\n",
              "      <td>Mailed check</td>\n",
              "      <td>19.70</td>\n",
              "      <td>NaN</td>\n",
              "      <td>No</td>\n",
              "    </tr>\n",
              "    <tr>\n",
              "      <th>6670</th>\n",
              "      <td>4075-WKNIU</td>\n",
              "      <td>Female</td>\n",
              "      <td>0</td>\n",
              "      <td>Yes</td>\n",
              "      <td>Yes</td>\n",
              "      <td>0</td>\n",
              "      <td>Yes</td>\n",
              "      <td>Yes</td>\n",
              "      <td>DSL</td>\n",
              "      <td>No</td>\n",
              "      <td>Yes</td>\n",
              "      <td>Yes</td>\n",
              "      <td>Yes</td>\n",
              "      <td>Yes</td>\n",
              "      <td>No</td>\n",
              "      <td>Two year</td>\n",
              "      <td>No</td>\n",
              "      <td>Mailed check</td>\n",
              "      <td>73.35</td>\n",
              "      <td>NaN</td>\n",
              "      <td>No</td>\n",
              "    </tr>\n",
              "    <tr>\n",
              "      <th>6754</th>\n",
              "      <td>2775-SEFEE</td>\n",
              "      <td>Male</td>\n",
              "      <td>0</td>\n",
              "      <td>No</td>\n",
              "      <td>Yes</td>\n",
              "      <td>0</td>\n",
              "      <td>Yes</td>\n",
              "      <td>Yes</td>\n",
              "      <td>DSL</td>\n",
              "      <td>Yes</td>\n",
              "      <td>Yes</td>\n",
              "      <td>No</td>\n",
              "      <td>Yes</td>\n",
              "      <td>No</td>\n",
              "      <td>No</td>\n",
              "      <td>Two year</td>\n",
              "      <td>Yes</td>\n",
              "      <td>Bank transfer (automatic)</td>\n",
              "      <td>61.90</td>\n",
              "      <td>NaN</td>\n",
              "      <td>No</td>\n",
              "    </tr>\n",
              "  </tbody>\n",
              "</table>\n",
              "</div>"
            ],
            "text/plain": [
              "      customerID  gender  SeniorCitizen  ... MonthlyCharges TotalCharges  Churn\n",
              "488   4472-LVYGI  Female              0  ...          52.55          NaN     No\n",
              "753   3115-CZMZD    Male              0  ...          20.25          NaN     No\n",
              "936   5709-LVOEQ  Female              0  ...          80.85          NaN     No\n",
              "1082  4367-NUYAO    Male              0  ...          25.75          NaN     No\n",
              "1340  1371-DWPAZ  Female              0  ...          56.05          NaN     No\n",
              "3331  7644-OMVMY    Male              0  ...          19.85          NaN     No\n",
              "3826  3213-VVOLG    Male              0  ...          25.35          NaN     No\n",
              "4380  2520-SGTTA  Female              0  ...          20.00          NaN     No\n",
              "5218  2923-ARZLG    Male              0  ...          19.70          NaN     No\n",
              "6670  4075-WKNIU  Female              0  ...          73.35          NaN     No\n",
              "6754  2775-SEFEE    Male              0  ...          61.90          NaN     No\n",
              "\n",
              "[11 rows x 21 columns]"
            ]
          },
          "metadata": {
            "tags": []
          },
          "execution_count": 14
        }
      ]
    },
    {
      "cell_type": "code",
      "metadata": {
        "colab": {
          "base_uri": "https://localhost:8080/",
          "height": 69
        },
        "id": "38OJ49pJGQms",
        "outputId": "a59d45aa-f279-4fe8-c023-4879cf879c85"
      },
      "source": [
        "dataframe[dataframe.TotalCharges == 0]"
      ],
      "execution_count": 15,
      "outputs": [
        {
          "output_type": "execute_result",
          "data": {
            "text/html": [
              "<div>\n",
              "<style scoped>\n",
              "    .dataframe tbody tr th:only-of-type {\n",
              "        vertical-align: middle;\n",
              "    }\n",
              "\n",
              "    .dataframe tbody tr th {\n",
              "        vertical-align: top;\n",
              "    }\n",
              "\n",
              "    .dataframe thead th {\n",
              "        text-align: right;\n",
              "    }\n",
              "</style>\n",
              "<table border=\"1\" class=\"dataframe\">\n",
              "  <thead>\n",
              "    <tr style=\"text-align: right;\">\n",
              "      <th></th>\n",
              "      <th>customerID</th>\n",
              "      <th>gender</th>\n",
              "      <th>SeniorCitizen</th>\n",
              "      <th>Partner</th>\n",
              "      <th>Dependents</th>\n",
              "      <th>tenure</th>\n",
              "      <th>PhoneService</th>\n",
              "      <th>MultipleLines</th>\n",
              "      <th>InternetService</th>\n",
              "      <th>OnlineSecurity</th>\n",
              "      <th>OnlineBackup</th>\n",
              "      <th>DeviceProtection</th>\n",
              "      <th>TechSupport</th>\n",
              "      <th>StreamingTV</th>\n",
              "      <th>StreamingMovies</th>\n",
              "      <th>Contract</th>\n",
              "      <th>PaperlessBilling</th>\n",
              "      <th>PaymentMethod</th>\n",
              "      <th>MonthlyCharges</th>\n",
              "      <th>TotalCharges</th>\n",
              "      <th>Churn</th>\n",
              "    </tr>\n",
              "  </thead>\n",
              "  <tbody>\n",
              "  </tbody>\n",
              "</table>\n",
              "</div>"
            ],
            "text/plain": [
              "Empty DataFrame\n",
              "Columns: [customerID, gender, SeniorCitizen, Partner, Dependents, tenure, PhoneService, MultipleLines, InternetService, OnlineSecurity, OnlineBackup, DeviceProtection, TechSupport, StreamingTV, StreamingMovies, Contract, PaperlessBilling, PaymentMethod, MonthlyCharges, TotalCharges, Churn]\n",
              "Index: []"
            ]
          },
          "metadata": {
            "tags": []
          },
          "execution_count": 15
        }
      ]
    },
    {
      "cell_type": "code",
      "metadata": {
        "id": "W3DPeVaBGQmv"
      },
      "source": [
        "# Setting the TotalCharges to 0 for rows that have a missing value\n",
        "dataframe.loc[dataframe.TotalCharges.isnull(), 'TotalCharges'] = 0"
      ],
      "execution_count": 16,
      "outputs": []
    },
    {
      "cell_type": "code",
      "metadata": {
        "colab": {
          "base_uri": "https://localhost:8080/",
          "height": 597
        },
        "id": "LW7nRBUWGQmw",
        "outputId": "609d30a8-73b9-444b-8183-ecdc250b450c"
      },
      "source": [
        "#verifying\n",
        "dataframe.loc[dataframe.tenure == 0]"
      ],
      "execution_count": 17,
      "outputs": [
        {
          "output_type": "execute_result",
          "data": {
            "text/html": [
              "<div>\n",
              "<style scoped>\n",
              "    .dataframe tbody tr th:only-of-type {\n",
              "        vertical-align: middle;\n",
              "    }\n",
              "\n",
              "    .dataframe tbody tr th {\n",
              "        vertical-align: top;\n",
              "    }\n",
              "\n",
              "    .dataframe thead th {\n",
              "        text-align: right;\n",
              "    }\n",
              "</style>\n",
              "<table border=\"1\" class=\"dataframe\">\n",
              "  <thead>\n",
              "    <tr style=\"text-align: right;\">\n",
              "      <th></th>\n",
              "      <th>customerID</th>\n",
              "      <th>gender</th>\n",
              "      <th>SeniorCitizen</th>\n",
              "      <th>Partner</th>\n",
              "      <th>Dependents</th>\n",
              "      <th>tenure</th>\n",
              "      <th>PhoneService</th>\n",
              "      <th>MultipleLines</th>\n",
              "      <th>InternetService</th>\n",
              "      <th>OnlineSecurity</th>\n",
              "      <th>OnlineBackup</th>\n",
              "      <th>DeviceProtection</th>\n",
              "      <th>TechSupport</th>\n",
              "      <th>StreamingTV</th>\n",
              "      <th>StreamingMovies</th>\n",
              "      <th>Contract</th>\n",
              "      <th>PaperlessBilling</th>\n",
              "      <th>PaymentMethod</th>\n",
              "      <th>MonthlyCharges</th>\n",
              "      <th>TotalCharges</th>\n",
              "      <th>Churn</th>\n",
              "    </tr>\n",
              "  </thead>\n",
              "  <tbody>\n",
              "    <tr>\n",
              "      <th>488</th>\n",
              "      <td>4472-LVYGI</td>\n",
              "      <td>Female</td>\n",
              "      <td>0</td>\n",
              "      <td>Yes</td>\n",
              "      <td>Yes</td>\n",
              "      <td>0</td>\n",
              "      <td>No</td>\n",
              "      <td>No phone service</td>\n",
              "      <td>DSL</td>\n",
              "      <td>Yes</td>\n",
              "      <td>No</td>\n",
              "      <td>Yes</td>\n",
              "      <td>Yes</td>\n",
              "      <td>Yes</td>\n",
              "      <td>No</td>\n",
              "      <td>Two year</td>\n",
              "      <td>Yes</td>\n",
              "      <td>Bank transfer (automatic)</td>\n",
              "      <td>52.55</td>\n",
              "      <td>0.0</td>\n",
              "      <td>No</td>\n",
              "    </tr>\n",
              "    <tr>\n",
              "      <th>753</th>\n",
              "      <td>3115-CZMZD</td>\n",
              "      <td>Male</td>\n",
              "      <td>0</td>\n",
              "      <td>No</td>\n",
              "      <td>Yes</td>\n",
              "      <td>0</td>\n",
              "      <td>Yes</td>\n",
              "      <td>No</td>\n",
              "      <td>No</td>\n",
              "      <td>No internet service</td>\n",
              "      <td>No internet service</td>\n",
              "      <td>No internet service</td>\n",
              "      <td>No internet service</td>\n",
              "      <td>No internet service</td>\n",
              "      <td>No internet service</td>\n",
              "      <td>Two year</td>\n",
              "      <td>No</td>\n",
              "      <td>Mailed check</td>\n",
              "      <td>20.25</td>\n",
              "      <td>0.0</td>\n",
              "      <td>No</td>\n",
              "    </tr>\n",
              "    <tr>\n",
              "      <th>936</th>\n",
              "      <td>5709-LVOEQ</td>\n",
              "      <td>Female</td>\n",
              "      <td>0</td>\n",
              "      <td>Yes</td>\n",
              "      <td>Yes</td>\n",
              "      <td>0</td>\n",
              "      <td>Yes</td>\n",
              "      <td>No</td>\n",
              "      <td>DSL</td>\n",
              "      <td>Yes</td>\n",
              "      <td>Yes</td>\n",
              "      <td>Yes</td>\n",
              "      <td>No</td>\n",
              "      <td>Yes</td>\n",
              "      <td>Yes</td>\n",
              "      <td>Two year</td>\n",
              "      <td>No</td>\n",
              "      <td>Mailed check</td>\n",
              "      <td>80.85</td>\n",
              "      <td>0.0</td>\n",
              "      <td>No</td>\n",
              "    </tr>\n",
              "    <tr>\n",
              "      <th>1082</th>\n",
              "      <td>4367-NUYAO</td>\n",
              "      <td>Male</td>\n",
              "      <td>0</td>\n",
              "      <td>Yes</td>\n",
              "      <td>Yes</td>\n",
              "      <td>0</td>\n",
              "      <td>Yes</td>\n",
              "      <td>Yes</td>\n",
              "      <td>No</td>\n",
              "      <td>No internet service</td>\n",
              "      <td>No internet service</td>\n",
              "      <td>No internet service</td>\n",
              "      <td>No internet service</td>\n",
              "      <td>No internet service</td>\n",
              "      <td>No internet service</td>\n",
              "      <td>Two year</td>\n",
              "      <td>No</td>\n",
              "      <td>Mailed check</td>\n",
              "      <td>25.75</td>\n",
              "      <td>0.0</td>\n",
              "      <td>No</td>\n",
              "    </tr>\n",
              "    <tr>\n",
              "      <th>1340</th>\n",
              "      <td>1371-DWPAZ</td>\n",
              "      <td>Female</td>\n",
              "      <td>0</td>\n",
              "      <td>Yes</td>\n",
              "      <td>Yes</td>\n",
              "      <td>0</td>\n",
              "      <td>No</td>\n",
              "      <td>No phone service</td>\n",
              "      <td>DSL</td>\n",
              "      <td>Yes</td>\n",
              "      <td>Yes</td>\n",
              "      <td>Yes</td>\n",
              "      <td>Yes</td>\n",
              "      <td>Yes</td>\n",
              "      <td>No</td>\n",
              "      <td>Two year</td>\n",
              "      <td>No</td>\n",
              "      <td>Credit card (automatic)</td>\n",
              "      <td>56.05</td>\n",
              "      <td>0.0</td>\n",
              "      <td>No</td>\n",
              "    </tr>\n",
              "    <tr>\n",
              "      <th>3331</th>\n",
              "      <td>7644-OMVMY</td>\n",
              "      <td>Male</td>\n",
              "      <td>0</td>\n",
              "      <td>Yes</td>\n",
              "      <td>Yes</td>\n",
              "      <td>0</td>\n",
              "      <td>Yes</td>\n",
              "      <td>No</td>\n",
              "      <td>No</td>\n",
              "      <td>No internet service</td>\n",
              "      <td>No internet service</td>\n",
              "      <td>No internet service</td>\n",
              "      <td>No internet service</td>\n",
              "      <td>No internet service</td>\n",
              "      <td>No internet service</td>\n",
              "      <td>Two year</td>\n",
              "      <td>No</td>\n",
              "      <td>Mailed check</td>\n",
              "      <td>19.85</td>\n",
              "      <td>0.0</td>\n",
              "      <td>No</td>\n",
              "    </tr>\n",
              "    <tr>\n",
              "      <th>3826</th>\n",
              "      <td>3213-VVOLG</td>\n",
              "      <td>Male</td>\n",
              "      <td>0</td>\n",
              "      <td>Yes</td>\n",
              "      <td>Yes</td>\n",
              "      <td>0</td>\n",
              "      <td>Yes</td>\n",
              "      <td>Yes</td>\n",
              "      <td>No</td>\n",
              "      <td>No internet service</td>\n",
              "      <td>No internet service</td>\n",
              "      <td>No internet service</td>\n",
              "      <td>No internet service</td>\n",
              "      <td>No internet service</td>\n",
              "      <td>No internet service</td>\n",
              "      <td>Two year</td>\n",
              "      <td>No</td>\n",
              "      <td>Mailed check</td>\n",
              "      <td>25.35</td>\n",
              "      <td>0.0</td>\n",
              "      <td>No</td>\n",
              "    </tr>\n",
              "    <tr>\n",
              "      <th>4380</th>\n",
              "      <td>2520-SGTTA</td>\n",
              "      <td>Female</td>\n",
              "      <td>0</td>\n",
              "      <td>Yes</td>\n",
              "      <td>Yes</td>\n",
              "      <td>0</td>\n",
              "      <td>Yes</td>\n",
              "      <td>No</td>\n",
              "      <td>No</td>\n",
              "      <td>No internet service</td>\n",
              "      <td>No internet service</td>\n",
              "      <td>No internet service</td>\n",
              "      <td>No internet service</td>\n",
              "      <td>No internet service</td>\n",
              "      <td>No internet service</td>\n",
              "      <td>Two year</td>\n",
              "      <td>No</td>\n",
              "      <td>Mailed check</td>\n",
              "      <td>20.00</td>\n",
              "      <td>0.0</td>\n",
              "      <td>No</td>\n",
              "    </tr>\n",
              "    <tr>\n",
              "      <th>5218</th>\n",
              "      <td>2923-ARZLG</td>\n",
              "      <td>Male</td>\n",
              "      <td>0</td>\n",
              "      <td>Yes</td>\n",
              "      <td>Yes</td>\n",
              "      <td>0</td>\n",
              "      <td>Yes</td>\n",
              "      <td>No</td>\n",
              "      <td>No</td>\n",
              "      <td>No internet service</td>\n",
              "      <td>No internet service</td>\n",
              "      <td>No internet service</td>\n",
              "      <td>No internet service</td>\n",
              "      <td>No internet service</td>\n",
              "      <td>No internet service</td>\n",
              "      <td>One year</td>\n",
              "      <td>Yes</td>\n",
              "      <td>Mailed check</td>\n",
              "      <td>19.70</td>\n",
              "      <td>0.0</td>\n",
              "      <td>No</td>\n",
              "    </tr>\n",
              "    <tr>\n",
              "      <th>6670</th>\n",
              "      <td>4075-WKNIU</td>\n",
              "      <td>Female</td>\n",
              "      <td>0</td>\n",
              "      <td>Yes</td>\n",
              "      <td>Yes</td>\n",
              "      <td>0</td>\n",
              "      <td>Yes</td>\n",
              "      <td>Yes</td>\n",
              "      <td>DSL</td>\n",
              "      <td>No</td>\n",
              "      <td>Yes</td>\n",
              "      <td>Yes</td>\n",
              "      <td>Yes</td>\n",
              "      <td>Yes</td>\n",
              "      <td>No</td>\n",
              "      <td>Two year</td>\n",
              "      <td>No</td>\n",
              "      <td>Mailed check</td>\n",
              "      <td>73.35</td>\n",
              "      <td>0.0</td>\n",
              "      <td>No</td>\n",
              "    </tr>\n",
              "    <tr>\n",
              "      <th>6754</th>\n",
              "      <td>2775-SEFEE</td>\n",
              "      <td>Male</td>\n",
              "      <td>0</td>\n",
              "      <td>No</td>\n",
              "      <td>Yes</td>\n",
              "      <td>0</td>\n",
              "      <td>Yes</td>\n",
              "      <td>Yes</td>\n",
              "      <td>DSL</td>\n",
              "      <td>Yes</td>\n",
              "      <td>Yes</td>\n",
              "      <td>No</td>\n",
              "      <td>Yes</td>\n",
              "      <td>No</td>\n",
              "      <td>No</td>\n",
              "      <td>Two year</td>\n",
              "      <td>Yes</td>\n",
              "      <td>Bank transfer (automatic)</td>\n",
              "      <td>61.90</td>\n",
              "      <td>0.0</td>\n",
              "      <td>No</td>\n",
              "    </tr>\n",
              "  </tbody>\n",
              "</table>\n",
              "</div>"
            ],
            "text/plain": [
              "      customerID  gender  SeniorCitizen  ... MonthlyCharges TotalCharges  Churn\n",
              "488   4472-LVYGI  Female              0  ...          52.55          0.0     No\n",
              "753   3115-CZMZD    Male              0  ...          20.25          0.0     No\n",
              "936   5709-LVOEQ  Female              0  ...          80.85          0.0     No\n",
              "1082  4367-NUYAO    Male              0  ...          25.75          0.0     No\n",
              "1340  1371-DWPAZ  Female              0  ...          56.05          0.0     No\n",
              "3331  7644-OMVMY    Male              0  ...          19.85          0.0     No\n",
              "3826  3213-VVOLG    Male              0  ...          25.35          0.0     No\n",
              "4380  2520-SGTTA  Female              0  ...          20.00          0.0     No\n",
              "5218  2923-ARZLG    Male              0  ...          19.70          0.0     No\n",
              "6670  4075-WKNIU  Female              0  ...          73.35          0.0     No\n",
              "6754  2775-SEFEE    Male              0  ...          61.90          0.0     No\n",
              "\n",
              "[11 rows x 21 columns]"
            ]
          },
          "metadata": {
            "tags": []
          },
          "execution_count": 17
        }
      ]
    },
    {
      "cell_type": "code",
      "metadata": {
        "colab": {
          "base_uri": "https://localhost:8080/"
        },
        "id": "9JLAQ4k7GQmy",
        "outputId": "3f7f9c59-d335-4b7f-e66d-0692cc5d1d1c"
      },
      "source": [
        "#converting churn column values to binary numerical values\n",
        "churned = len(dataframe.loc[dataframe.Churn == 'Yes'])\n",
        "not_churned = len(dataframe.loc[dataframe.Churn == 'No'])\n",
        "\n",
        "print(f'Churned: {churned}')\n",
        "print(f'Did not churn: {not_churned}')"
      ],
      "execution_count": 18,
      "outputs": [
        {
          "output_type": "stream",
          "text": [
            "Churned: 1869\n",
            "Did not churn: 5174\n"
          ],
          "name": "stdout"
        }
      ]
    },
    {
      "cell_type": "code",
      "metadata": {
        "id": "xJ0imQEJGQmz"
      },
      "source": [
        "dataframe['Churn'].replace(to_replace='Yes', value=1, inplace=True)\n",
        "dataframe['Churn'].replace(to_replace='No', value=0, inplace=True)"
      ],
      "execution_count": 19,
      "outputs": []
    },
    {
      "cell_type": "code",
      "metadata": {
        "colab": {
          "base_uri": "https://localhost:8080/"
        },
        "id": "IEQwqtjwGQm0",
        "outputId": "ea04b80d-3c26-490b-ce56-2662bbe1368d"
      },
      "source": [
        "#verifying\n",
        "churned = len(dataframe.loc[dataframe.Churn == 1])\n",
        "not_churned = len(dataframe.loc[dataframe.Churn == 0])\n",
        "\n",
        "print(f'Churned: {churned}')\n",
        "print(f'Did not churn: {not_churned}')"
      ],
      "execution_count": 20,
      "outputs": [
        {
          "output_type": "stream",
          "text": [
            "Churned: 1869\n",
            "Did not churn: 5174\n"
          ],
          "name": "stdout"
        }
      ]
    },
    {
      "cell_type": "code",
      "metadata": {
        "colab": {
          "base_uri": "https://localhost:8080/"
        },
        "id": "HVcXdj2wGQm2",
        "outputId": "e8c9d6b6-f7a2-4296-c90f-81defb442441"
      },
      "source": [
        "not_seniors = len(dataframe.loc[dataframe.SeniorCitizen == 0])\n",
        "seniors = len(dataframe.loc[dataframe.SeniorCitizen == 1])\n",
        "\n",
        "print(f'Not seniors: {not_seniors}')\n",
        "print(f'Seniors: {seniors}')"
      ],
      "execution_count": 21,
      "outputs": [
        {
          "output_type": "stream",
          "text": [
            "Not seniors: 5901\n",
            "Seniors: 1142\n"
          ],
          "name": "stdout"
        }
      ]
    },
    {
      "cell_type": "code",
      "metadata": {
        "colab": {
          "base_uri": "https://localhost:8080/"
        },
        "id": "P-nREuN2GQm3",
        "outputId": "6031de77-4e8e-4d71-a4f2-4fc47f327b7d"
      },
      "source": [
        "# Convert Seniors into a categorical Yes and No column.\n",
        "dataframe.SeniorCitizen = dataframe.SeniorCitizen.astype(str)\n",
        "dataframe.SeniorCitizen.replace(to_replace='0', value='No', inplace=True)\n",
        "dataframe.SeniorCitizen.replace(to_replace='1', value='Yes', inplace=True)\n",
        "\n",
        "# Confirm change\n",
        "not_seniors = len(dataframe.loc[dataframe.SeniorCitizen == 'No'])\n",
        "seniors = len(dataframe.loc[dataframe.SeniorCitizen == 'Yes'])\n",
        "print(f'Not seniors: {not_seniors}')\n",
        "print(f'Seniors: {seniors}')"
      ],
      "execution_count": 22,
      "outputs": [
        {
          "output_type": "stream",
          "text": [
            "Not seniors: 5901\n",
            "Seniors: 1142\n"
          ],
          "name": "stdout"
        }
      ]
    },
    {
      "cell_type": "code",
      "metadata": {
        "id": "0TOSr3QCGQm5"
      },
      "source": [
        "#check and eliminate useless values\n",
        "unique_values = []\n",
        "for column in dataframe.columns:\n",
        "    unique_values.append({column: len( dataframe[column].unique())})"
      ],
      "execution_count": 23,
      "outputs": []
    },
    {
      "cell_type": "code",
      "metadata": {
        "colab": {
          "base_uri": "https://localhost:8080/"
        },
        "id": "TOmdQ8kvGQm6",
        "outputId": "4e3fa127-0b8e-4d2a-84a1-054c565e4a52"
      },
      "source": [
        "unique_values"
      ],
      "execution_count": 24,
      "outputs": [
        {
          "output_type": "execute_result",
          "data": {
            "text/plain": [
              "[{'customerID': 7043},\n",
              " {'gender': 2},\n",
              " {'SeniorCitizen': 2},\n",
              " {'Partner': 2},\n",
              " {'Dependents': 2},\n",
              " {'tenure': 73},\n",
              " {'PhoneService': 2},\n",
              " {'MultipleLines': 3},\n",
              " {'InternetService': 3},\n",
              " {'OnlineSecurity': 3},\n",
              " {'OnlineBackup': 3},\n",
              " {'DeviceProtection': 3},\n",
              " {'TechSupport': 3},\n",
              " {'StreamingTV': 3},\n",
              " {'StreamingMovies': 3},\n",
              " {'Contract': 3},\n",
              " {'PaperlessBilling': 2},\n",
              " {'PaymentMethod': 4},\n",
              " {'MonthlyCharges': 1585},\n",
              " {'TotalCharges': 6531},\n",
              " {'Churn': 2}]"
            ]
          },
          "metadata": {
            "tags": []
          },
          "execution_count": 24
        }
      ]
    },
    {
      "cell_type": "code",
      "metadata": {
        "colab": {
          "base_uri": "https://localhost:8080/"
        },
        "id": "jZARrz9_GQm8",
        "outputId": "5978a7b0-858d-49bc-c3e5-d6b2a7e0a571"
      },
      "source": [
        "#removing column with one unique values\n",
        "len(dataframe['customerID']) ==  len(dataframe['customerID'].unique())"
      ],
      "execution_count": 25,
      "outputs": [
        {
          "output_type": "execute_result",
          "data": {
            "text/plain": [
              "True"
            ]
          },
          "metadata": {
            "tags": []
          },
          "execution_count": 25
        }
      ]
    },
    {
      "cell_type": "code",
      "metadata": {
        "colab": {
          "base_uri": "https://localhost:8080/",
          "height": 292
        },
        "id": "c3q_S8v_GQm9",
        "outputId": "f2a5ae17-5bc2-40c7-8145-37349d70cc5f"
      },
      "source": [
        "dataframe.drop(columns=['customerID'], inplace=True)\n",
        "dataframe.head()"
      ],
      "execution_count": 26,
      "outputs": [
        {
          "output_type": "execute_result",
          "data": {
            "text/html": [
              "<div>\n",
              "<style scoped>\n",
              "    .dataframe tbody tr th:only-of-type {\n",
              "        vertical-align: middle;\n",
              "    }\n",
              "\n",
              "    .dataframe tbody tr th {\n",
              "        vertical-align: top;\n",
              "    }\n",
              "\n",
              "    .dataframe thead th {\n",
              "        text-align: right;\n",
              "    }\n",
              "</style>\n",
              "<table border=\"1\" class=\"dataframe\">\n",
              "  <thead>\n",
              "    <tr style=\"text-align: right;\">\n",
              "      <th></th>\n",
              "      <th>gender</th>\n",
              "      <th>SeniorCitizen</th>\n",
              "      <th>Partner</th>\n",
              "      <th>Dependents</th>\n",
              "      <th>tenure</th>\n",
              "      <th>PhoneService</th>\n",
              "      <th>MultipleLines</th>\n",
              "      <th>InternetService</th>\n",
              "      <th>OnlineSecurity</th>\n",
              "      <th>OnlineBackup</th>\n",
              "      <th>DeviceProtection</th>\n",
              "      <th>TechSupport</th>\n",
              "      <th>StreamingTV</th>\n",
              "      <th>StreamingMovies</th>\n",
              "      <th>Contract</th>\n",
              "      <th>PaperlessBilling</th>\n",
              "      <th>PaymentMethod</th>\n",
              "      <th>MonthlyCharges</th>\n",
              "      <th>TotalCharges</th>\n",
              "      <th>Churn</th>\n",
              "    </tr>\n",
              "  </thead>\n",
              "  <tbody>\n",
              "    <tr>\n",
              "      <th>0</th>\n",
              "      <td>Female</td>\n",
              "      <td>No</td>\n",
              "      <td>Yes</td>\n",
              "      <td>No</td>\n",
              "      <td>1</td>\n",
              "      <td>No</td>\n",
              "      <td>No phone service</td>\n",
              "      <td>DSL</td>\n",
              "      <td>No</td>\n",
              "      <td>Yes</td>\n",
              "      <td>No</td>\n",
              "      <td>No</td>\n",
              "      <td>No</td>\n",
              "      <td>No</td>\n",
              "      <td>Month-to-month</td>\n",
              "      <td>Yes</td>\n",
              "      <td>Electronic check</td>\n",
              "      <td>29.85</td>\n",
              "      <td>29.85</td>\n",
              "      <td>0</td>\n",
              "    </tr>\n",
              "    <tr>\n",
              "      <th>1</th>\n",
              "      <td>Male</td>\n",
              "      <td>No</td>\n",
              "      <td>No</td>\n",
              "      <td>No</td>\n",
              "      <td>34</td>\n",
              "      <td>Yes</td>\n",
              "      <td>No</td>\n",
              "      <td>DSL</td>\n",
              "      <td>Yes</td>\n",
              "      <td>No</td>\n",
              "      <td>Yes</td>\n",
              "      <td>No</td>\n",
              "      <td>No</td>\n",
              "      <td>No</td>\n",
              "      <td>One year</td>\n",
              "      <td>No</td>\n",
              "      <td>Mailed check</td>\n",
              "      <td>56.95</td>\n",
              "      <td>1889.50</td>\n",
              "      <td>0</td>\n",
              "    </tr>\n",
              "    <tr>\n",
              "      <th>2</th>\n",
              "      <td>Male</td>\n",
              "      <td>No</td>\n",
              "      <td>No</td>\n",
              "      <td>No</td>\n",
              "      <td>2</td>\n",
              "      <td>Yes</td>\n",
              "      <td>No</td>\n",
              "      <td>DSL</td>\n",
              "      <td>Yes</td>\n",
              "      <td>Yes</td>\n",
              "      <td>No</td>\n",
              "      <td>No</td>\n",
              "      <td>No</td>\n",
              "      <td>No</td>\n",
              "      <td>Month-to-month</td>\n",
              "      <td>Yes</td>\n",
              "      <td>Mailed check</td>\n",
              "      <td>53.85</td>\n",
              "      <td>108.15</td>\n",
              "      <td>1</td>\n",
              "    </tr>\n",
              "    <tr>\n",
              "      <th>3</th>\n",
              "      <td>Male</td>\n",
              "      <td>No</td>\n",
              "      <td>No</td>\n",
              "      <td>No</td>\n",
              "      <td>45</td>\n",
              "      <td>No</td>\n",
              "      <td>No phone service</td>\n",
              "      <td>DSL</td>\n",
              "      <td>Yes</td>\n",
              "      <td>No</td>\n",
              "      <td>Yes</td>\n",
              "      <td>Yes</td>\n",
              "      <td>No</td>\n",
              "      <td>No</td>\n",
              "      <td>One year</td>\n",
              "      <td>No</td>\n",
              "      <td>Bank transfer (automatic)</td>\n",
              "      <td>42.30</td>\n",
              "      <td>1840.75</td>\n",
              "      <td>0</td>\n",
              "    </tr>\n",
              "    <tr>\n",
              "      <th>4</th>\n",
              "      <td>Female</td>\n",
              "      <td>No</td>\n",
              "      <td>No</td>\n",
              "      <td>No</td>\n",
              "      <td>2</td>\n",
              "      <td>Yes</td>\n",
              "      <td>No</td>\n",
              "      <td>Fiber optic</td>\n",
              "      <td>No</td>\n",
              "      <td>No</td>\n",
              "      <td>No</td>\n",
              "      <td>No</td>\n",
              "      <td>No</td>\n",
              "      <td>No</td>\n",
              "      <td>Month-to-month</td>\n",
              "      <td>Yes</td>\n",
              "      <td>Electronic check</td>\n",
              "      <td>70.70</td>\n",
              "      <td>151.65</td>\n",
              "      <td>1</td>\n",
              "    </tr>\n",
              "  </tbody>\n",
              "</table>\n",
              "</div>"
            ],
            "text/plain": [
              "   gender SeniorCitizen Partner  ... MonthlyCharges  TotalCharges Churn\n",
              "0  Female            No     Yes  ...          29.85         29.85     0\n",
              "1    Male            No      No  ...          56.95       1889.50     0\n",
              "2    Male            No      No  ...          53.85        108.15     1\n",
              "3    Male            No      No  ...          42.30       1840.75     0\n",
              "4  Female            No      No  ...          70.70        151.65     1\n",
              "\n",
              "[5 rows x 20 columns]"
            ]
          },
          "metadata": {
            "tags": []
          },
          "execution_count": 26
        }
      ]
    },
    {
      "cell_type": "code",
      "metadata": {
        "colab": {
          "base_uri": "https://localhost:8080/",
          "height": 275
        },
        "id": "FTgHdsOCGQm_",
        "outputId": "c4e2c5a1-07a5-4c1e-c2ec-e8436b4d3fbb"
      },
      "source": [
        "#replacing all the whitespaces with under \"_\"\n",
        "dataframe.replace(\" \", \"_\", regex=True, inplace=True)\n",
        "dataframe.head()"
      ],
      "execution_count": 71,
      "outputs": [
        {
          "output_type": "execute_result",
          "data": {
            "text/html": [
              "<div>\n",
              "<style scoped>\n",
              "    .dataframe tbody tr th:only-of-type {\n",
              "        vertical-align: middle;\n",
              "    }\n",
              "\n",
              "    .dataframe tbody tr th {\n",
              "        vertical-align: top;\n",
              "    }\n",
              "\n",
              "    .dataframe thead th {\n",
              "        text-align: right;\n",
              "    }\n",
              "</style>\n",
              "<table border=\"1\" class=\"dataframe\">\n",
              "  <thead>\n",
              "    <tr style=\"text-align: right;\">\n",
              "      <th></th>\n",
              "      <th>gender</th>\n",
              "      <th>SeniorCitizen</th>\n",
              "      <th>Partner</th>\n",
              "      <th>Dependents</th>\n",
              "      <th>tenure</th>\n",
              "      <th>PhoneService</th>\n",
              "      <th>MultipleLines</th>\n",
              "      <th>InternetService</th>\n",
              "      <th>OnlineSecurity</th>\n",
              "      <th>OnlineBackup</th>\n",
              "      <th>DeviceProtection</th>\n",
              "      <th>TechSupport</th>\n",
              "      <th>StreamingTV</th>\n",
              "      <th>StreamingMovies</th>\n",
              "      <th>Contract</th>\n",
              "      <th>PaperlessBilling</th>\n",
              "      <th>PaymentMethod</th>\n",
              "      <th>MonthlyCharges</th>\n",
              "      <th>TotalCharges</th>\n",
              "      <th>Churn</th>\n",
              "    </tr>\n",
              "  </thead>\n",
              "  <tbody>\n",
              "    <tr>\n",
              "      <th>0</th>\n",
              "      <td>Female</td>\n",
              "      <td>No</td>\n",
              "      <td>Yes</td>\n",
              "      <td>No</td>\n",
              "      <td>1</td>\n",
              "      <td>No</td>\n",
              "      <td>No_phone_service</td>\n",
              "      <td>DSL</td>\n",
              "      <td>No</td>\n",
              "      <td>Yes</td>\n",
              "      <td>No</td>\n",
              "      <td>No</td>\n",
              "      <td>No</td>\n",
              "      <td>No</td>\n",
              "      <td>Month-to-month</td>\n",
              "      <td>Yes</td>\n",
              "      <td>Electronic_check</td>\n",
              "      <td>29.85</td>\n",
              "      <td>29.85</td>\n",
              "      <td>0</td>\n",
              "    </tr>\n",
              "    <tr>\n",
              "      <th>1</th>\n",
              "      <td>Male</td>\n",
              "      <td>No</td>\n",
              "      <td>No</td>\n",
              "      <td>No</td>\n",
              "      <td>34</td>\n",
              "      <td>Yes</td>\n",
              "      <td>No</td>\n",
              "      <td>DSL</td>\n",
              "      <td>Yes</td>\n",
              "      <td>No</td>\n",
              "      <td>Yes</td>\n",
              "      <td>No</td>\n",
              "      <td>No</td>\n",
              "      <td>No</td>\n",
              "      <td>One_year</td>\n",
              "      <td>No</td>\n",
              "      <td>Mailed_check</td>\n",
              "      <td>56.95</td>\n",
              "      <td>1889.50</td>\n",
              "      <td>0</td>\n",
              "    </tr>\n",
              "    <tr>\n",
              "      <th>2</th>\n",
              "      <td>Male</td>\n",
              "      <td>No</td>\n",
              "      <td>No</td>\n",
              "      <td>No</td>\n",
              "      <td>2</td>\n",
              "      <td>Yes</td>\n",
              "      <td>No</td>\n",
              "      <td>DSL</td>\n",
              "      <td>Yes</td>\n",
              "      <td>Yes</td>\n",
              "      <td>No</td>\n",
              "      <td>No</td>\n",
              "      <td>No</td>\n",
              "      <td>No</td>\n",
              "      <td>Month-to-month</td>\n",
              "      <td>Yes</td>\n",
              "      <td>Mailed_check</td>\n",
              "      <td>53.85</td>\n",
              "      <td>108.15</td>\n",
              "      <td>1</td>\n",
              "    </tr>\n",
              "    <tr>\n",
              "      <th>3</th>\n",
              "      <td>Male</td>\n",
              "      <td>No</td>\n",
              "      <td>No</td>\n",
              "      <td>No</td>\n",
              "      <td>45</td>\n",
              "      <td>No</td>\n",
              "      <td>No_phone_service</td>\n",
              "      <td>DSL</td>\n",
              "      <td>Yes</td>\n",
              "      <td>No</td>\n",
              "      <td>Yes</td>\n",
              "      <td>Yes</td>\n",
              "      <td>No</td>\n",
              "      <td>No</td>\n",
              "      <td>One_year</td>\n",
              "      <td>No</td>\n",
              "      <td>Bank_transfer_(automatic)</td>\n",
              "      <td>42.30</td>\n",
              "      <td>1840.75</td>\n",
              "      <td>0</td>\n",
              "    </tr>\n",
              "    <tr>\n",
              "      <th>4</th>\n",
              "      <td>Female</td>\n",
              "      <td>No</td>\n",
              "      <td>No</td>\n",
              "      <td>No</td>\n",
              "      <td>2</td>\n",
              "      <td>Yes</td>\n",
              "      <td>No</td>\n",
              "      <td>Fiber_optic</td>\n",
              "      <td>No</td>\n",
              "      <td>No</td>\n",
              "      <td>No</td>\n",
              "      <td>No</td>\n",
              "      <td>No</td>\n",
              "      <td>No</td>\n",
              "      <td>Month-to-month</td>\n",
              "      <td>Yes</td>\n",
              "      <td>Electronic_check</td>\n",
              "      <td>70.70</td>\n",
              "      <td>151.65</td>\n",
              "      <td>1</td>\n",
              "    </tr>\n",
              "  </tbody>\n",
              "</table>\n",
              "</div>"
            ],
            "text/plain": [
              "   gender SeniorCitizen Partner  ... MonthlyCharges  TotalCharges Churn\n",
              "0  Female            No     Yes  ...          29.85         29.85     0\n",
              "1    Male            No      No  ...          56.95       1889.50     0\n",
              "2    Male            No      No  ...          53.85        108.15     1\n",
              "3    Male            No      No  ...          42.30       1840.75     0\n",
              "4  Female            No      No  ...          70.70        151.65     1\n",
              "\n",
              "[5 rows x 20 columns]"
            ]
          },
          "metadata": {
            "tags": []
          },
          "execution_count": 71
        }
      ]
    },
    {
      "cell_type": "markdown",
      "metadata": {
        "id": "6qzPcmMnGQm_"
      },
      "source": [
        "# Question 1"
      ]
    },
    {
      "cell_type": "markdown",
      "metadata": {
        "id": "Is7UTboIGQnA"
      },
      "source": [
        "analysing the distrubition of gender, age range ,partner and dependend status of the customers"
      ]
    },
    {
      "cell_type": "code",
      "metadata": {
        "colab": {
          "base_uri": "https://localhost:8080/",
          "height": 301
        },
        "id": "F04xVuiTGQnC",
        "outputId": "31fad08a-1926-456a-d364-4c3cf222681a"
      },
      "source": [
        "#gender distrubition\n",
        "colors = ['#008000','#FFD700']\n",
        "\n",
        "# Plot the percentage of each gender\n",
        "ax = (dataframe['gender'].value_counts()*100.0 /len(dataframe)).plot(kind='bar',\n",
        "                                                                   stacked = True,\n",
        "                                                                   rot = 0,\n",
        "                                                                   color = colors)\n",
        "\n",
        "ax.yaxis.set_major_formatter(mtick.PercentFormatter())\n",
        "ax.set_ylabel('% Customers')\n",
        "ax.set_xlabel('Gender')\n",
        "ax.set_ylabel('% Customers')\n",
        "ax.set_title('Gender Distribution')\n",
        "\n",
        "# create a list to collect the plt.patches data\n",
        "totals = []\n",
        "\n",
        "# find the values and append to list\n",
        "for i in ax.patches:\n",
        "    totals.append(i.get_width())\n",
        "\n",
        "# set individual bar lables using above list\n",
        "total = sum(totals)\n",
        "\n",
        "for i in ax.patches:\n",
        "    # get_width pulls left or right; get_y pushes up or down\n",
        "    ax.text(i.get_x()+.15, i.get_height()-3.5, \\\n",
        "            str(round((i.get_height()/total), 1))+'%',\n",
        "            fontsize=12,\n",
        "            color='white',\n",
        "           weight = 'bold')"
      ],
      "execution_count": 74,
      "outputs": [
        {
          "output_type": "display_data",
          "data": {
            "image/png": "[encoded data removed]",
            "text/plain": [
              "<Figure size 432x288 with 1 Axes>"
            ]
          },
          "metadata": {
            "tags": []
          }
        }
      ]
    },
    {
      "cell_type": "code",
      "metadata": {
        "colab": {
          "base_uri": "https://localhost:8080/",
          "height": 334
        },
        "id": "QpGmBHThGQnE",
        "outputId": "7efb4a0d-7b55-4205-9591-b3130ebe3617"
      },
      "source": [
        "#senior citizens distrubition\n",
        "ax =  (dataframe.SeniorCitizen.value_counts() * 100 / len(dataframe)).plot.pie(autopct='%.1f%%', labels = ['non Senior', 'Senior'],figsize =(5,5), fontsize = 10 )\n",
        "\n",
        "ax.yaxis.set_major_formatter(mtick.PercentFormatter())\n",
        "ax.set_ylabel('Snr citizens',fontsize = 10)\n",
        "ax.set_title('percentage of Snr citizens', fontsize = 10)"
      ],
      "execution_count": 72,
      "outputs": [
        {
          "output_type": "execute_result",
          "data": {
            "text/plain": [
              "Text(0.5, 1.0, 'percentage of Snr citizens')"
            ]
          },
          "metadata": {
            "tags": []
          },
          "execution_count": 72
        },
        {
          "output_type": "display_data",
          "data": {
            "image/png": "[encoded data removed]",
            "text/plain": [
              "<Figure size 360x360 with 1 Axes>"
            ]
          },
          "metadata": {
            "tags": []
          }
        }
      ]
    },
    {
      "cell_type": "code",
      "metadata": {
        "colab": {
          "base_uri": "https://localhost:8080/",
          "height": 372
        },
        "id": "89fa-2VSGQnJ",
        "outputId": "523d27ab-733c-49f2-cdce-0d03d040838b"
      },
      "source": [
        "#tenure distrubition\n",
        "ax = sns.distplot(dataframe['tenure'], hist=True, kde=False, \n",
        "             bins=int(180/5), color = 'purple', \n",
        "             hist_kws={'edgecolor':'black'},\n",
        "             kde_kws={'linewidth': 4})\n",
        "ax.set_ylabel('# of Customers')\n",
        "ax.set_xlabel('Tenure (months)')\n",
        "ax.set_title('# of Customers by their tenure')"
      ],
      "execution_count": 75,
      "outputs": [
        {
          "output_type": "stream",
          "text": [
            "/usr/local/lib/python3.7/dist-packages/seaborn/distributions.py:2557: FutureWarning: `distplot` is a deprecated function and will be removed in a future version. Please adapt your code to use either `displot` (a figure-level function with similar flexibility) or `histplot` (an axes-level function for histograms).\n",
            "  warnings.warn(msg, FutureWarning)\n"
          ],
          "name": "stderr"
        },
        {
          "output_type": "execute_result",
          "data": {
            "text/plain": [
              "Text(0.5, 1.0, '# of Customers by their tenure')"
            ]
          },
          "metadata": {
            "tags": []
          },
          "execution_count": 75
        },
        {
          "output_type": "display_data",
          "data": {
            "image/png": "[encoded data removed]",
            "text/plain": [
              "<Figure size 432x288 with 1 Axes>"
            ]
          },
          "metadata": {
            "tags": []
          }
        }
      ]
    },
    {
      "cell_type": "code",
      "metadata": {
        "colab": {
          "base_uri": "https://localhost:8080/",
          "height": 302
        },
        "id": "Ot6FlRQIGQnN",
        "outputId": "066a59cb-b790-42b8-80b9-89f50cd159b6"
      },
      "source": [
        "#distrubition by contract\n",
        "ax = dataframe['Contract'].value_counts().plot(kind = 'bar',rot = 0, width = 0.3)\n",
        "ax.set_ylabel('# of Customers')\n",
        "ax.set_title('# of Customers by Contract Type')"
      ],
      "execution_count": 31,
      "outputs": [
        {
          "output_type": "execute_result",
          "data": {
            "text/plain": [
              "Text(0.5, 1.0, '# of Customers by Contract Type')"
            ]
          },
          "metadata": {
            "tags": []
          },
          "execution_count": 31
        },
        {
          "output_type": "display_data",
          "data": {
            "image/png": "[encoded data removed]",
            "text/plain": [
              "<Figure size 432x288 with 1 Axes>"
            ]
          },
          "metadata": {
            "tags": []
          }
        }
      ]
    },
    {
      "cell_type": "code",
      "metadata": {
        "colab": {
          "base_uri": "https://localhost:8080/",
          "height": 720
        },
        "id": "F-7Ml2jfGQnP",
        "outputId": "05ee07f6-0c6e-497b-ff3e-e56388fa1833"
      },
      "source": [
        "#distribution of various services used by customers\n",
        "services = ['PhoneService','MultipleLines','InternetService','OnlineSecurity',\n",
        "           'OnlineBackup','DeviceProtection','TechSupport','StreamingTV','StreamingMovies']\n",
        "\n",
        "fig, axes = plt.subplots(nrows = 3,ncols = 3,figsize = (15,12))\n",
        "for i, item in enumerate(services):\n",
        "    if i < 3:\n",
        "        ax = dataframe[item].value_counts().plot(kind = 'bar',ax=axes[i,0],rot = 0)\n",
        "        \n",
        "    elif i >=3 and i < 6:\n",
        "        ax = dataframe[item].value_counts().plot(kind = 'bar',ax=axes[i-3,1],rot = 0)\n",
        "        \n",
        "    elif i < 9:\n",
        "        ax = dataframe[item].value_counts().plot(kind = 'bar',ax=axes[i-6,2],rot = 0)\n",
        "    ax.set_title(item)"
      ],
      "execution_count": 32,
      "outputs": [
        {
          "output_type": "display_data",
          "data": {
            "image/png": "[encoded data removed]",
            "text/plain": [
              "<Figure size 1080x864 with 9 Axes>"
            ]
          },
          "metadata": {
            "tags": []
          }
        }
      ]
    },
    {
      "cell_type": "code",
      "metadata": {
        "colab": {
          "base_uri": "https://localhost:8080/",
          "height": 339
        },
        "id": "3EpfthJiGQnR",
        "outputId": "ad177a5c-1cbb-4eff-e57b-17e0346a094a"
      },
      "source": [
        "#Relation between monthly and total charges\n",
        "dataframe[['MonthlyCharges', 'TotalCharges']].plot.scatter(x = 'MonthlyCharges',\n",
        "                                                              y='TotalCharges')"
      ],
      "execution_count": 33,
      "outputs": [
        {
          "output_type": "stream",
          "text": [
            "*c* argument looks like a single numeric RGB or RGBA sequence, which should be avoided as value-mapping will have precedence in case its length matches with *x* & *y*.  Please use the *color* keyword-argument or provide a 2-D array with a single row if you intend to specify the same RGB or RGBA value for all points.\n"
          ],
          "name": "stderr"
        },
        {
          "output_type": "execute_result",
          "data": {
            "text/plain": [
              "<matplotlib.axes._subplots.AxesSubplot at 0x7fa2d6412d50>"
            ]
          },
          "metadata": {
            "tags": []
          },
          "execution_count": 33
        },
        {
          "output_type": "display_data",
          "data": {
            "image/png": "[encoded data removed]",
            "text/plain": [
              "<Figure size 432x288 with 1 Axes>"
            ]
          },
          "metadata": {
            "tags": []
          }
        }
      ]
    },
    {
      "cell_type": "markdown",
      "metadata": {
        "id": "QhAEJjygGQnT"
      },
      "source": [
        "We will observe that the total charges increases as the monthly bill for a customer increases."
      ]
    },
    {
      "cell_type": "code",
      "metadata": {
        "colab": {
          "base_uri": "https://localhost:8080/",
          "height": 412
        },
        "id": "SG4vSIGFGQnU",
        "outputId": "98b99c38-f6e4-4c71-b682-68fbf138413c"
      },
      "source": [
        "#CHURN RATE\n",
        "\n",
        "\n",
        "colors = ['GREEN','GOLD']\n",
        "ax = (dataframe['Churn'].value_counts()*100.0 /len(dataframe)).plot(kind='bar',\n",
        "                                                                      stacked = True,\n",
        "                                                                      rot = 0,\n",
        "                                                                      color = colors,\n",
        "                                                                      figsize = (8,6))\n",
        "ax.yaxis.set_major_formatter(mtick.PercentFormatter())\n",
        "ax.set_ylabel('% Customers',size = 14)\n",
        "ax.set_xlabel('Churn',size = 14)\n",
        "ax.set_title('Churn Rate', size = 14)\n",
        "\n",
        "# create a list to collect the plt.patches data\n",
        "totals = []\n",
        "\n",
        "# find the values and append to list\n",
        "for i in ax.patches:\n",
        "    totals.append(i.get_width())\n",
        "\n",
        "# set individual bar lables using above list\n",
        "total = sum(totals)\n",
        "\n",
        "for i in ax.patches:\n",
        "    # get_width pulls left or right; get_y pushes up or down\n",
        "    ax.text(i.get_x()+.15, i.get_height()-4.0, \\\n",
        "            str(round((i.get_height()/total), 1))+'%',\n",
        "            fontsize=12,\n",
        "            color='white',\n",
        "            weight = 'bold',\n",
        "            size = 14)"
      ],
      "execution_count": 76,
      "outputs": [
        {
          "output_type": "display_data",
          "data": {
            "image/png": "[encoded data removed]",
            "text/plain": [
              "<Figure size 576x432 with 1 Axes>"
            ]
          },
          "metadata": {
            "tags": []
          }
        }
      ]
    },
    {
      "cell_type": "code",
      "metadata": {
        "colab": {
          "base_uri": "https://localhost:8080/",
          "height": 173
        },
        "id": "4spRDITMGQnX",
        "outputId": "6157a3dd-4cd7-4923-bb4d-a6ddf9137b81"
      },
      "source": [
        "#CORRELATIONS IN THE DATA\n",
        "\n",
        "corr = dataframe.corr()\n",
        "corr"
      ],
      "execution_count": 35,
      "outputs": [
        {
          "output_type": "execute_result",
          "data": {
            "text/html": [
              "<div>\n",
              "<style scoped>\n",
              "    .dataframe tbody tr th:only-of-type {\n",
              "        vertical-align: middle;\n",
              "    }\n",
              "\n",
              "    .dataframe tbody tr th {\n",
              "        vertical-align: top;\n",
              "    }\n",
              "\n",
              "    .dataframe thead th {\n",
              "        text-align: right;\n",
              "    }\n",
              "</style>\n",
              "<table border=\"1\" class=\"dataframe\">\n",
              "  <thead>\n",
              "    <tr style=\"text-align: right;\">\n",
              "      <th></th>\n",
              "      <th>tenure</th>\n",
              "      <th>MonthlyCharges</th>\n",
              "      <th>TotalCharges</th>\n",
              "      <th>Churn</th>\n",
              "    </tr>\n",
              "  </thead>\n",
              "  <tbody>\n",
              "    <tr>\n",
              "      <th>tenure</th>\n",
              "      <td>1.000000</td>\n",
              "      <td>0.247900</td>\n",
              "      <td>0.826178</td>\n",
              "      <td>-0.352229</td>\n",
              "    </tr>\n",
              "    <tr>\n",
              "      <th>MonthlyCharges</th>\n",
              "      <td>0.247900</td>\n",
              "      <td>1.000000</td>\n",
              "      <td>0.651174</td>\n",
              "      <td>0.193356</td>\n",
              "    </tr>\n",
              "    <tr>\n",
              "      <th>TotalCharges</th>\n",
              "      <td>0.826178</td>\n",
              "      <td>0.651174</td>\n",
              "      <td>1.000000</td>\n",
              "      <td>-0.198324</td>\n",
              "    </tr>\n",
              "    <tr>\n",
              "      <th>Churn</th>\n",
              "      <td>-0.352229</td>\n",
              "      <td>0.193356</td>\n",
              "      <td>-0.198324</td>\n",
              "      <td>1.000000</td>\n",
              "    </tr>\n",
              "  </tbody>\n",
              "</table>\n",
              "</div>"
            ],
            "text/plain": [
              "                  tenure  MonthlyCharges  TotalCharges     Churn\n",
              "tenure          1.000000        0.247900      0.826178 -0.352229\n",
              "MonthlyCharges  0.247900        1.000000      0.651174  0.193356\n",
              "TotalCharges    0.826178        0.651174      1.000000 -0.198324\n",
              "Churn          -0.352229        0.193356     -0.198324  1.000000"
            ]
          },
          "metadata": {
            "tags": []
          },
          "execution_count": 35
        }
      ]
    },
    {
      "cell_type": "code",
      "metadata": {
        "colab": {
          "base_uri": "https://localhost:8080/",
          "height": 368
        },
        "id": "_5NKkz47GQnX",
        "outputId": "eb197fa7-cc75-4089-b76a-8115bd7c5542"
      },
      "source": [
        "sns.heatmap(corr, xticklabels=corr.columns.values, yticklabels=corr.columns.values,  vmax=.3, center=0,\n",
        "            square=True, linewidths=.5, annot=True, fmt='.2f', cmap='coolwarm')"
      ],
      "execution_count": 36,
      "outputs": [
        {
          "output_type": "execute_result",
          "data": {
            "text/plain": [
              "<matplotlib.axes._subplots.AxesSubplot at 0x7fa2d6333e50>"
            ]
          },
          "metadata": {
            "tags": []
          },
          "execution_count": 36
        },
        {
          "output_type": "display_data",
          "data": {
            "image/png": "[encoded data removed]",
            "text/plain": [
              "<Figure size 432x288 with 2 Axes>"
            ]
          },
          "metadata": {
            "tags": []
          }
        }
      ]
    },
    {
      "cell_type": "code",
      "metadata": {
        "id": "ZG-Xr-DoGQnY"
      },
      "source": [
        "from dython.nominal import associations"
      ],
      "execution_count": 37,
      "outputs": []
    },
    {
      "cell_type": "code",
      "metadata": {
        "colab": {
          "base_uri": "https://localhost:8080/",
          "height": 792
        },
        "id": "lZi8YkQ7GQnZ",
        "outputId": "bd973cc2-db36-46d4-c983-b1bc5fc44c23"
      },
      "source": [
        "assc = associations(dataframe, figsize=(21, 12))"
      ],
      "execution_count": 38,
      "outputs": [
        {
          "output_type": "display_data",
          "data": {
            "image/png": "[encoded data removed]",
            "text/plain": [
              "<Figure size 1512x864 with 2 Axes>"
            ]
          },
          "metadata": {
            "tags": []
          }
        }
      ]
    },
    {
      "cell_type": "code",
      "metadata": {
        "id": "oJ3R2rMwGQna"
      },
      "source": [
        "# corr_df = pd.DataFrame(assc['corr'])\n",
        "# corr_df"
      ],
      "execution_count": 39,
      "outputs": []
    },
    {
      "cell_type": "code",
      "metadata": {
        "id": "AzOCCfRwGQnc"
      },
      "source": [
        "#FEATURES WHICH MIGHT BE RELEVANT \n",
        "\n",
        "selected_features = ['gender', 'SeniorCitizen', 'Partner', 'Dependents', 'Contract',  'MultipleLines','PaperlessBilling', 'PaymentMethod','TotalCharges', 'MonthlyCharges']"
      ],
      "execution_count": 40,
      "outputs": []
    },
    {
      "cell_type": "code",
      "metadata": {
        "colab": {
          "base_uri": "https://localhost:8080/",
          "height": 204
        },
        "id": "TMxANAtQGQne",
        "outputId": "32606a45-7c06-49fc-beed-93e540f22bee"
      },
      "source": [
        "#SPLITTING DEPENDED AND NON-DEPENDED VARIABLES AND 1 HOT ENCODING\n",
        "\n",
        "\n",
        "# X = dataframe.drop(columns=['Churn']).copy()\n",
        "X = dataframe.loc[:, selected_features].copy()\n",
        "X.head()"
      ],
      "execution_count": 41,
      "outputs": [
        {
          "output_type": "execute_result",
          "data": {
            "text/html": [
              "<div>\n",
              "<style scoped>\n",
              "    .dataframe tbody tr th:only-of-type {\n",
              "        vertical-align: middle;\n",
              "    }\n",
              "\n",
              "    .dataframe tbody tr th {\n",
              "        vertical-align: top;\n",
              "    }\n",
              "\n",
              "    .dataframe thead th {\n",
              "        text-align: right;\n",
              "    }\n",
              "</style>\n",
              "<table border=\"1\" class=\"dataframe\">\n",
              "  <thead>\n",
              "    <tr style=\"text-align: right;\">\n",
              "      <th></th>\n",
              "      <th>gender</th>\n",
              "      <th>SeniorCitizen</th>\n",
              "      <th>Partner</th>\n",
              "      <th>Dependents</th>\n",
              "      <th>Contract</th>\n",
              "      <th>MultipleLines</th>\n",
              "      <th>PaperlessBilling</th>\n",
              "      <th>PaymentMethod</th>\n",
              "      <th>TotalCharges</th>\n",
              "      <th>MonthlyCharges</th>\n",
              "    </tr>\n",
              "  </thead>\n",
              "  <tbody>\n",
              "    <tr>\n",
              "      <th>0</th>\n",
              "      <td>Female</td>\n",
              "      <td>No</td>\n",
              "      <td>Yes</td>\n",
              "      <td>No</td>\n",
              "      <td>Month-to-month</td>\n",
              "      <td>No_phone_service</td>\n",
              "      <td>Yes</td>\n",
              "      <td>Electronic_check</td>\n",
              "      <td>29.85</td>\n",
              "      <td>29.85</td>\n",
              "    </tr>\n",
              "    <tr>\n",
              "      <th>1</th>\n",
              "      <td>Male</td>\n",
              "      <td>No</td>\n",
              "      <td>No</td>\n",
              "      <td>No</td>\n",
              "      <td>One_year</td>\n",
              "      <td>No</td>\n",
              "      <td>No</td>\n",
              "      <td>Mailed_check</td>\n",
              "      <td>1889.50</td>\n",
              "      <td>56.95</td>\n",
              "    </tr>\n",
              "    <tr>\n",
              "      <th>2</th>\n",
              "      <td>Male</td>\n",
              "      <td>No</td>\n",
              "      <td>No</td>\n",
              "      <td>No</td>\n",
              "      <td>Month-to-month</td>\n",
              "      <td>No</td>\n",
              "      <td>Yes</td>\n",
              "      <td>Mailed_check</td>\n",
              "      <td>108.15</td>\n",
              "      <td>53.85</td>\n",
              "    </tr>\n",
              "    <tr>\n",
              "      <th>3</th>\n",
              "      <td>Male</td>\n",
              "      <td>No</td>\n",
              "      <td>No</td>\n",
              "      <td>No</td>\n",
              "      <td>One_year</td>\n",
              "      <td>No_phone_service</td>\n",
              "      <td>No</td>\n",
              "      <td>Bank_transfer_(automatic)</td>\n",
              "      <td>1840.75</td>\n",
              "      <td>42.30</td>\n",
              "    </tr>\n",
              "    <tr>\n",
              "      <th>4</th>\n",
              "      <td>Female</td>\n",
              "      <td>No</td>\n",
              "      <td>No</td>\n",
              "      <td>No</td>\n",
              "      <td>Month-to-month</td>\n",
              "      <td>No</td>\n",
              "      <td>Yes</td>\n",
              "      <td>Electronic_check</td>\n",
              "      <td>151.65</td>\n",
              "      <td>70.70</td>\n",
              "    </tr>\n",
              "  </tbody>\n",
              "</table>\n",
              "</div>"
            ],
            "text/plain": [
              "   gender SeniorCitizen  ... TotalCharges MonthlyCharges\n",
              "0  Female            No  ...        29.85          29.85\n",
              "1    Male            No  ...      1889.50          56.95\n",
              "2    Male            No  ...       108.15          53.85\n",
              "3    Male            No  ...      1840.75          42.30\n",
              "4  Female            No  ...       151.65          70.70\n",
              "\n",
              "[5 rows x 10 columns]"
            ]
          },
          "metadata": {
            "tags": []
          },
          "execution_count": 41
        }
      ]
    },
    {
      "cell_type": "code",
      "metadata": {
        "colab": {
          "base_uri": "https://localhost:8080/"
        },
        "id": "zFbZW6cOGQnf",
        "outputId": "0964369a-c0c5-4bb9-ab4e-a41bd0d2a836"
      },
      "source": [
        "y = dataframe.Churn.copy()\n",
        "y.head()"
      ],
      "execution_count": 42,
      "outputs": [
        {
          "output_type": "execute_result",
          "data": {
            "text/plain": [
              "0    0\n",
              "1    0\n",
              "2    1\n",
              "3    0\n",
              "4    1\n",
              "Name: Churn, dtype: int64"
            ]
          },
          "metadata": {
            "tags": []
          },
          "execution_count": 42
        }
      ]
    },
    {
      "cell_type": "markdown",
      "metadata": {
        "id": "rWRWf31AGQng"
      },
      "source": [
        "### One Hot Encoding"
      ]
    },
    {
      "cell_type": "code",
      "metadata": {
        "colab": {
          "base_uri": "https://localhost:8080/"
        },
        "id": "I7rNJ1rbGQni",
        "outputId": "01819bb7-6d4a-4d77-f394-acd7fe26d2ae"
      },
      "source": [
        "#1 HOT ENCODING\n",
        "\n",
        "X.dtypes"
      ],
      "execution_count": 43,
      "outputs": [
        {
          "output_type": "execute_result",
          "data": {
            "text/plain": [
              "gender               object\n",
              "SeniorCitizen        object\n",
              "Partner              object\n",
              "Dependents           object\n",
              "Contract             object\n",
              "MultipleLines        object\n",
              "PaperlessBilling     object\n",
              "PaymentMethod        object\n",
              "TotalCharges        float64\n",
              "MonthlyCharges      float64\n",
              "dtype: object"
            ]
          },
          "metadata": {
            "tags": []
          },
          "execution_count": 43
        }
      ]
    },
    {
      "cell_type": "code",
      "metadata": {
        "id": "dm1rn-8dGQnj"
      },
      "source": [
        "# X_encoded = pd.get_dummies(X, columns=['gender', 'SeniorCitizen', 'Partner', 'Dependents', 'PhoneService', 'MultipleLines',\n",
        "#                                         'InternetService', 'OnlineSecurity', 'OnlineBackup', 'DeviceProtection', 'TechSupport',\n",
        "#                                         'StreamingTV', 'StreamingMovies', 'Contract', 'PaperlessBilling', 'PaymentMethod'])\n",
        "\n",
        "categories = ['gender', 'SeniorCitizen', 'Partner', 'Dependents', 'Contract', 'PaperlessBilling', 'PaymentMethod', 'MultipleLines']\n",
        "X_encoded = pd.get_dummies(X, columns=categories)\n",
        "\n",
        "# from sklearn.compose import ColumnTransformer\n",
        "\n",
        "# categories = ['gender', 'SeniorCitizen', 'Partner', 'Dependents', 'Contract', 'PaperlessBilling', 'PaymentMethod', 'MultipleLines']\n",
        "# transformer = ColumnTransformer(transformers=[('cat', OneHotEncoder(), categories)], remainder='passthrough')\n",
        "# X_encoded = transformer.fit_transform(X)\n",
        "# type(X_encoded)"
      ],
      "execution_count": 44,
      "outputs": []
    },
    {
      "cell_type": "code",
      "metadata": {
        "colab": {
          "base_uri": "https://localhost:8080/",
          "height": 456
        },
        "id": "J_84QERuGQnk",
        "outputId": "c101faa9-0609-4cf8-ddbd-9d4251242892"
      },
      "source": [
        "X_encoded"
      ],
      "execution_count": 45,
      "outputs": [
        {
          "output_type": "execute_result",
          "data": {
            "text/html": [
              "<div>\n",
              "<style scoped>\n",
              "    .dataframe tbody tr th:only-of-type {\n",
              "        vertical-align: middle;\n",
              "    }\n",
              "\n",
              "    .dataframe tbody tr th {\n",
              "        vertical-align: top;\n",
              "    }\n",
              "\n",
              "    .dataframe thead th {\n",
              "        text-align: right;\n",
              "    }\n",
              "</style>\n",
              "<table border=\"1\" class=\"dataframe\">\n",
              "  <thead>\n",
              "    <tr style=\"text-align: right;\">\n",
              "      <th></th>\n",
              "      <th>TotalCharges</th>\n",
              "      <th>MonthlyCharges</th>\n",
              "      <th>gender_Female</th>\n",
              "      <th>gender_Male</th>\n",
              "      <th>SeniorCitizen_No</th>\n",
              "      <th>SeniorCitizen_Yes</th>\n",
              "      <th>Partner_No</th>\n",
              "      <th>Partner_Yes</th>\n",
              "      <th>Dependents_No</th>\n",
              "      <th>Dependents_Yes</th>\n",
              "      <th>Contract_Month-to-month</th>\n",
              "      <th>Contract_One_year</th>\n",
              "      <th>Contract_Two_year</th>\n",
              "      <th>PaperlessBilling_No</th>\n",
              "      <th>PaperlessBilling_Yes</th>\n",
              "      <th>PaymentMethod_Bank_transfer_(automatic)</th>\n",
              "      <th>PaymentMethod_Credit_card_(automatic)</th>\n",
              "      <th>PaymentMethod_Electronic_check</th>\n",
              "      <th>PaymentMethod_Mailed_check</th>\n",
              "      <th>MultipleLines_No</th>\n",
              "      <th>MultipleLines_No_phone_service</th>\n",
              "      <th>MultipleLines_Yes</th>\n",
              "    </tr>\n",
              "  </thead>\n",
              "  <tbody>\n",
              "    <tr>\n",
              "      <th>0</th>\n",
              "      <td>29.85</td>\n",
              "      <td>29.85</td>\n",
              "      <td>1</td>\n",
              "      <td>0</td>\n",
              "      <td>1</td>\n",
              "      <td>0</td>\n",
              "      <td>0</td>\n",
              "      <td>1</td>\n",
              "      <td>1</td>\n",
              "      <td>0</td>\n",
              "      <td>1</td>\n",
              "      <td>0</td>\n",
              "      <td>0</td>\n",
              "      <td>0</td>\n",
              "      <td>1</td>\n",
              "      <td>0</td>\n",
              "      <td>0</td>\n",
              "      <td>1</td>\n",
              "      <td>0</td>\n",
              "      <td>0</td>\n",
              "      <td>1</td>\n",
              "      <td>0</td>\n",
              "    </tr>\n",
              "    <tr>\n",
              "      <th>1</th>\n",
              "      <td>1889.50</td>\n",
              "      <td>56.95</td>\n",
              "      <td>0</td>\n",
              "      <td>1</td>\n",
              "      <td>1</td>\n",
              "      <td>0</td>\n",
              "      <td>1</td>\n",
              "      <td>0</td>\n",
              "      <td>1</td>\n",
              "      <td>0</td>\n",
              "      <td>0</td>\n",
              "      <td>1</td>\n",
              "      <td>0</td>\n",
              "      <td>1</td>\n",
              "      <td>0</td>\n",
              "      <td>0</td>\n",
              "      <td>0</td>\n",
              "      <td>0</td>\n",
              "      <td>1</td>\n",
              "      <td>1</td>\n",
              "      <td>0</td>\n",
              "      <td>0</td>\n",
              "    </tr>\n",
              "    <tr>\n",
              "      <th>2</th>\n",
              "      <td>108.15</td>\n",
              "      <td>53.85</td>\n",
              "      <td>0</td>\n",
              "      <td>1</td>\n",
              "      <td>1</td>\n",
              "      <td>0</td>\n",
              "      <td>1</td>\n",
              "      <td>0</td>\n",
              "      <td>1</td>\n",
              "      <td>0</td>\n",
              "      <td>1</td>\n",
              "      <td>0</td>\n",
              "      <td>0</td>\n",
              "      <td>0</td>\n",
              "      <td>1</td>\n",
              "      <td>0</td>\n",
              "      <td>0</td>\n",
              "      <td>0</td>\n",
              "      <td>1</td>\n",
              "      <td>1</td>\n",
              "      <td>0</td>\n",
              "      <td>0</td>\n",
              "    </tr>\n",
              "    <tr>\n",
              "      <th>3</th>\n",
              "      <td>1840.75</td>\n",
              "      <td>42.30</td>\n",
              "      <td>0</td>\n",
              "      <td>1</td>\n",
              "      <td>1</td>\n",
              "      <td>0</td>\n",
              "      <td>1</td>\n",
              "      <td>0</td>\n",
              "      <td>1</td>\n",
              "      <td>0</td>\n",
              "      <td>0</td>\n",
              "      <td>1</td>\n",
              "      <td>0</td>\n",
              "      <td>1</td>\n",
              "      <td>0</td>\n",
              "      <td>1</td>\n",
              "      <td>0</td>\n",
              "      <td>0</td>\n",
              "      <td>0</td>\n",
              "      <td>0</td>\n",
              "      <td>1</td>\n",
              "      <td>0</td>\n",
              "    </tr>\n",
              "    <tr>\n",
              "      <th>4</th>\n",
              "      <td>151.65</td>\n",
              "      <td>70.70</td>\n",
              "      <td>1</td>\n",
              "      <td>0</td>\n",
              "      <td>1</td>\n",
              "      <td>0</td>\n",
              "      <td>1</td>\n",
              "      <td>0</td>\n",
              "      <td>1</td>\n",
              "      <td>0</td>\n",
              "      <td>1</td>\n",
              "      <td>0</td>\n",
              "      <td>0</td>\n",
              "      <td>0</td>\n",
              "      <td>1</td>\n",
              "      <td>0</td>\n",
              "      <td>0</td>\n",
              "      <td>1</td>\n",
              "      <td>0</td>\n",
              "      <td>1</td>\n",
              "      <td>0</td>\n",
              "      <td>0</td>\n",
              "    </tr>\n",
              "    <tr>\n",
              "      <th>...</th>\n",
              "      <td>...</td>\n",
              "      <td>...</td>\n",
              "      <td>...</td>\n",
              "      <td>...</td>\n",
              "      <td>...</td>\n",
              "      <td>...</td>\n",
              "      <td>...</td>\n",
              "      <td>...</td>\n",
              "      <td>...</td>\n",
              "      <td>...</td>\n",
              "      <td>...</td>\n",
              "      <td>...</td>\n",
              "      <td>...</td>\n",
              "      <td>...</td>\n",
              "      <td>...</td>\n",
              "      <td>...</td>\n",
              "      <td>...</td>\n",
              "      <td>...</td>\n",
              "      <td>...</td>\n",
              "      <td>...</td>\n",
              "      <td>...</td>\n",
              "      <td>...</td>\n",
              "    </tr>\n",
              "    <tr>\n",
              "      <th>7038</th>\n",
              "      <td>1990.50</td>\n",
              "      <td>84.80</td>\n",
              "      <td>0</td>\n",
              "      <td>1</td>\n",
              "      <td>1</td>\n",
              "      <td>0</td>\n",
              "      <td>0</td>\n",
              "      <td>1</td>\n",
              "      <td>0</td>\n",
              "      <td>1</td>\n",
              "      <td>0</td>\n",
              "      <td>1</td>\n",
              "      <td>0</td>\n",
              "      <td>0</td>\n",
              "      <td>1</td>\n",
              "      <td>0</td>\n",
              "      <td>0</td>\n",
              "      <td>0</td>\n",
              "      <td>1</td>\n",
              "      <td>0</td>\n",
              "      <td>0</td>\n",
              "      <td>1</td>\n",
              "    </tr>\n",
              "    <tr>\n",
              "      <th>7039</th>\n",
              "      <td>7362.90</td>\n",
              "      <td>103.20</td>\n",
              "      <td>1</td>\n",
              "      <td>0</td>\n",
              "      <td>1</td>\n",
              "      <td>0</td>\n",
              "      <td>0</td>\n",
              "      <td>1</td>\n",
              "      <td>0</td>\n",
              "      <td>1</td>\n",
              "      <td>0</td>\n",
              "      <td>1</td>\n",
              "      <td>0</td>\n",
              "      <td>0</td>\n",
              "      <td>1</td>\n",
              "      <td>0</td>\n",
              "      <td>1</td>\n",
              "      <td>0</td>\n",
              "      <td>0</td>\n",
              "      <td>0</td>\n",
              "      <td>0</td>\n",
              "      <td>1</td>\n",
              "    </tr>\n",
              "    <tr>\n",
              "      <th>7040</th>\n",
              "      <td>346.45</td>\n",
              "      <td>29.60</td>\n",
              "      <td>1</td>\n",
              "      <td>0</td>\n",
              "      <td>1</td>\n",
              "      <td>0</td>\n",
              "      <td>0</td>\n",
              "      <td>1</td>\n",
              "      <td>0</td>\n",
              "      <td>1</td>\n",
              "      <td>1</td>\n",
              "      <td>0</td>\n",
              "      <td>0</td>\n",
              "      <td>0</td>\n",
              "      <td>1</td>\n",
              "      <td>0</td>\n",
              "      <td>0</td>\n",
              "      <td>1</td>\n",
              "      <td>0</td>\n",
              "      <td>0</td>\n",
              "      <td>1</td>\n",
              "      <td>0</td>\n",
              "    </tr>\n",
              "    <tr>\n",
              "      <th>7041</th>\n",
              "      <td>306.60</td>\n",
              "      <td>74.40</td>\n",
              "      <td>0</td>\n",
              "      <td>1</td>\n",
              "      <td>0</td>\n",
              "      <td>1</td>\n",
              "      <td>0</td>\n",
              "      <td>1</td>\n",
              "      <td>1</td>\n",
              "      <td>0</td>\n",
              "      <td>1</td>\n",
              "      <td>0</td>\n",
              "      <td>0</td>\n",
              "      <td>0</td>\n",
              "      <td>1</td>\n",
              "      <td>0</td>\n",
              "      <td>0</td>\n",
              "      <td>0</td>\n",
              "      <td>1</td>\n",
              "      <td>0</td>\n",
              "      <td>0</td>\n",
              "      <td>1</td>\n",
              "    </tr>\n",
              "    <tr>\n",
              "      <th>7042</th>\n",
              "      <td>6844.50</td>\n",
              "      <td>105.65</td>\n",
              "      <td>0</td>\n",
              "      <td>1</td>\n",
              "      <td>1</td>\n",
              "      <td>0</td>\n",
              "      <td>1</td>\n",
              "      <td>0</td>\n",
              "      <td>1</td>\n",
              "      <td>0</td>\n",
              "      <td>0</td>\n",
              "      <td>0</td>\n",
              "      <td>1</td>\n",
              "      <td>0</td>\n",
              "      <td>1</td>\n",
              "      <td>1</td>\n",
              "      <td>0</td>\n",
              "      <td>0</td>\n",
              "      <td>0</td>\n",
              "      <td>1</td>\n",
              "      <td>0</td>\n",
              "      <td>0</td>\n",
              "    </tr>\n",
              "  </tbody>\n",
              "</table>\n",
              "<p>7043 rows × 22 columns</p>\n",
              "</div>"
            ],
            "text/plain": [
              "      TotalCharges  ...  MultipleLines_Yes\n",
              "0            29.85  ...                  0\n",
              "1          1889.50  ...                  0\n",
              "2           108.15  ...                  0\n",
              "3          1840.75  ...                  0\n",
              "4           151.65  ...                  0\n",
              "...            ...  ...                ...\n",
              "7038       1990.50  ...                  1\n",
              "7039       7362.90  ...                  1\n",
              "7040        346.45  ...                  0\n",
              "7041        306.60  ...                  1\n",
              "7042       6844.50  ...                  0\n",
              "\n",
              "[7043 rows x 22 columns]"
            ]
          },
          "metadata": {
            "tags": []
          },
          "execution_count": 45
        }
      ]
    },
    {
      "cell_type": "code",
      "metadata": {
        "colab": {
          "base_uri": "https://localhost:8080/"
        },
        "id": "rj3-vHxNGQnl",
        "outputId": "46dc010e-2bba-471a-f152-10ff0ac26b47"
      },
      "source": [
        "y.unique()"
      ],
      "execution_count": 46,
      "outputs": [
        {
          "output_type": "execute_result",
          "data": {
            "text/plain": [
              "array([0, 1])"
            ]
          },
          "metadata": {
            "tags": []
          },
          "execution_count": 46
        }
      ]
    },
    {
      "cell_type": "markdown",
      "metadata": {
        "id": "W7glylWgGQnm"
      },
      "source": [
        "# FIRST XGBoost Model"
      ]
    },
    {
      "cell_type": "markdown",
      "metadata": {
        "id": "hwKDqMasGQnn"
      },
      "source": [
        "### Checking for data imbalance"
      ]
    },
    {
      "cell_type": "code",
      "metadata": {
        "colab": {
          "base_uri": "https://localhost:8080/"
        },
        "id": "fLlpKkIhGQnn",
        "outputId": "b18d1212-25ab-4601-c32a-51bba5a2b1af"
      },
      "source": [
        "#CHECKING FOR DATA IMBALANCES\n",
        "\n",
        "percentage_left = sum(y) / len(y)\n",
        "percentage_left"
      ],
      "execution_count": 47,
      "outputs": [
        {
          "output_type": "execute_result",
          "data": {
            "text/plain": [
              "0.2653698707936959"
            ]
          },
          "metadata": {
            "tags": []
          },
          "execution_count": 47
        }
      ]
    },
    {
      "cell_type": "code",
      "metadata": {
        "id": "yeiqn5h8GQnp"
      },
      "source": [
        "X_train, X_test, y_train, y_test = train_test_split(X_encoded, y, random_state=42, stratify=y)"
      ],
      "execution_count": 48,
      "outputs": []
    },
    {
      "cell_type": "code",
      "metadata": {
        "colab": {
          "base_uri": "https://localhost:8080/"
        },
        "id": "zROa0FIBGQnq",
        "outputId": "0c3fbbe9-86ac-43bc-ebad-ae9ebaf878f4"
      },
      "source": [
        "#VERIFYING THE STRATIFICATION PROCESS\n",
        "sum(y_train)/len(y_train)"
      ],
      "execution_count": 49,
      "outputs": [
        {
          "output_type": "execute_result",
          "data": {
            "text/plain": [
              "0.2654297614539947"
            ]
          },
          "metadata": {
            "tags": []
          },
          "execution_count": 49
        }
      ]
    },
    {
      "cell_type": "code",
      "metadata": {
        "colab": {
          "base_uri": "https://localhost:8080/"
        },
        "id": "rup53FxKGQnr",
        "outputId": "c93b3f71-6856-40d1-b42a-f9273359f6b2"
      },
      "source": [
        "sum(y_test)/len(y_test)"
      ],
      "execution_count": 50,
      "outputs": [
        {
          "output_type": "execute_result",
          "data": {
            "text/plain": [
              "0.26519023282226006"
            ]
          },
          "metadata": {
            "tags": []
          },
          "execution_count": 50
        }
      ]
    },
    {
      "cell_type": "markdown",
      "metadata": {
        "id": "omxVD8APGQnt"
      },
      "source": [
        "### Evaluation functions"
      ]
    },
    {
      "cell_type": "code",
      "metadata": {
        "id": "kK6JPRn2GQnt"
      },
      "source": [
        "import scikitplot as skplt\n",
        "from sklearn.metrics import roc_curve\n",
        "from sklearn.metrics import precision_recall_fscore_support"
      ],
      "execution_count": 51,
      "outputs": []
    },
    {
      "cell_type": "code",
      "metadata": {
        "id": "suCt0vGGGQnu"
      },
      "source": [
        "def print_evaluation_metric (y_true, y_pred):\n",
        "    #\n",
        "    # Function to print out the model evaluation metrics\n",
        "    # Args:\n",
        "    #   y_true: array of y true label\n",
        "    #   y_pred: array of y predicted class\n",
        "    #\n",
        "    # Return:\n",
        "    #   None\n",
        "    #\n",
        "    precision, recall, fscore, support = precision_recall_fscore_support(y_true, y_pred)\n",
        "    print(\"Precision: {}\".format(precision))\n",
        "    print(\"Recall: {}\".format(recall))\n",
        "    print(\"F-score: {}\".format(fscore))\n",
        "    print(\"Support: {}\".format(support))\n",
        "    return \n",
        "\n",
        "def plot_roc_curve (y_true, y_prob, filename=\"img.png\", dpi = 200):\n",
        "    #\n",
        "    # Function to plot the ROC curve by computing fpr and tpr as well as save the plot to file\n",
        "    # Args:\n",
        "    #   y_true: array of y true label\n",
        "    #   y_prob: the output of y probability prediction (outcome for predict_proba() function)\n",
        "    #   filename: the name of the file to be saved\n",
        "    #   dpi: the resolution of the figure\n",
        "    # Return:\n",
        "    #   None\n",
        "    #\n",
        "    fpr, tpr, threshold = roc_curve(y_true, y_prob[:, 1])\n",
        "    fig = plt.gcf()\n",
        "    fig.set_size_inches(10, 8)\n",
        "    plt.title(\"Receiver Operating Characteristic (ROC)\")\n",
        "    plt.plot(fpr, tpr, 'b')\n",
        "    plt.plot([0, 1], [0, 1],'r--')\n",
        "    plt.xlim([0, 1])\n",
        "    plt.ylim([0, 1])\n",
        "    plt.ylabel('True Positive Rate')\n",
        "    plt.xlabel('False Positive Rate')\n",
        "    plt.show()\n",
        "    fig.savefig(filename, dpi = dpi)\n",
        "    return"
      ],
      "execution_count": 52,
      "outputs": []
    },
    {
      "cell_type": "markdown",
      "metadata": {
        "id": "iDibWPThGQnw"
      },
      "source": [
        "### INITIAL MODEL DEFINITION AND TRAINING"
      ]
    },
    {
      "cell_type": "code",
      "metadata": {
        "colab": {
          "base_uri": "https://localhost:8080/"
        },
        "id": "Bqp1s6K_GQny",
        "outputId": "9fbad3e6-93c0-4042-e33c-05b6d9c965bc"
      },
      "source": [
        "clf_xgb = xgb.XGBClassifier(objective='binary:logistic', use_label_encoder=False, seed=42)\n",
        "clf_xgb.fit(X_train,\n",
        "              y_train,\n",
        "              verbose=True,\n",
        "              early_stopping_rounds=30,\n",
        "              eval_metric='aucpr',\n",
        "              eval_set=[(X_test, y_test)])"
      ],
      "execution_count": 53,
      "outputs": [
        {
          "output_type": "stream",
          "text": [
            "[0]\tvalidation_0-aucpr:0.555559\n",
            "Will train until validation_0-aucpr hasn't improved in 30 rounds.\n",
            "[1]\tvalidation_0-aucpr:0.557939\n",
            "[2]\tvalidation_0-aucpr:0.568986\n",
            "[3]\tvalidation_0-aucpr:0.605011\n",
            "[4]\tvalidation_0-aucpr:0.60395\n",
            "[5]\tvalidation_0-aucpr:0.608465\n",
            "[6]\tvalidation_0-aucpr:0.609509\n",
            "[7]\tvalidation_0-aucpr:0.616878\n",
            "[8]\tvalidation_0-aucpr:0.617117\n",
            "[9]\tvalidation_0-aucpr:0.618097\n",
            "[10]\tvalidation_0-aucpr:0.621103\n",
            "[11]\tvalidation_0-aucpr:0.624234\n",
            "[12]\tvalidation_0-aucpr:0.62462\n",
            "[13]\tvalidation_0-aucpr:0.623412\n",
            "[14]\tvalidation_0-aucpr:0.627643\n",
            "[15]\tvalidation_0-aucpr:0.631037\n",
            "[16]\tvalidation_0-aucpr:0.633289\n",
            "[17]\tvalidation_0-aucpr:0.635401\n",
            "[18]\tvalidation_0-aucpr:0.635285\n",
            "[19]\tvalidation_0-aucpr:0.634775\n",
            "[20]\tvalidation_0-aucpr:0.634105\n",
            "[21]\tvalidation_0-aucpr:0.636281\n",
            "[22]\tvalidation_0-aucpr:0.635574\n",
            "[23]\tvalidation_0-aucpr:0.6373\n",
            "[24]\tvalidation_0-aucpr:0.636203\n",
            "[25]\tvalidation_0-aucpr:0.638192\n",
            "[26]\tvalidation_0-aucpr:0.640088\n",
            "[27]\tvalidation_0-aucpr:0.639238\n",
            "[28]\tvalidation_0-aucpr:0.640273\n",
            "[29]\tvalidation_0-aucpr:0.639643\n",
            "[30]\tvalidation_0-aucpr:0.639293\n",
            "[31]\tvalidation_0-aucpr:0.639208\n",
            "[32]\tvalidation_0-aucpr:0.639517\n",
            "[33]\tvalidation_0-aucpr:0.639404\n",
            "[34]\tvalidation_0-aucpr:0.641438\n",
            "[35]\tvalidation_0-aucpr:0.641277\n",
            "[36]\tvalidation_0-aucpr:0.641495\n",
            "[37]\tvalidation_0-aucpr:0.641809\n",
            "[38]\tvalidation_0-aucpr:0.641323\n",
            "[39]\tvalidation_0-aucpr:0.641061\n",
            "[40]\tvalidation_0-aucpr:0.639631\n",
            "[41]\tvalidation_0-aucpr:0.639831\n",
            "[42]\tvalidation_0-aucpr:0.640923\n",
            "[43]\tvalidation_0-aucpr:0.641448\n",
            "[44]\tvalidation_0-aucpr:0.641043\n",
            "[45]\tvalidation_0-aucpr:0.641354\n",
            "[46]\tvalidation_0-aucpr:0.641875\n",
            "[47]\tvalidation_0-aucpr:0.641566\n",
            "[48]\tvalidation_0-aucpr:0.6412\n",
            "[49]\tvalidation_0-aucpr:0.642104\n",
            "[50]\tvalidation_0-aucpr:0.641785\n",
            "[51]\tvalidation_0-aucpr:0.64162\n",
            "[52]\tvalidation_0-aucpr:0.64162\n",
            "[53]\tvalidation_0-aucpr:0.64317\n",
            "[54]\tvalidation_0-aucpr:0.642895\n",
            "[55]\tvalidation_0-aucpr:0.642426\n",
            "[56]\tvalidation_0-aucpr:0.64248\n",
            "[57]\tvalidation_0-aucpr:0.642659\n",
            "[58]\tvalidation_0-aucpr:0.642874\n",
            "[59]\tvalidation_0-aucpr:0.64217\n",
            "[60]\tvalidation_0-aucpr:0.642279\n",
            "[61]\tvalidation_0-aucpr:0.642082\n",
            "[62]\tvalidation_0-aucpr:0.643249\n",
            "[63]\tvalidation_0-aucpr:0.643758\n",
            "[64]\tvalidation_0-aucpr:0.643699\n",
            "[65]\tvalidation_0-aucpr:0.643719\n",
            "[66]\tvalidation_0-aucpr:0.643666\n",
            "[67]\tvalidation_0-aucpr:0.643648\n",
            "[68]\tvalidation_0-aucpr:0.643641\n",
            "[69]\tvalidation_0-aucpr:0.644624\n",
            "[70]\tvalidation_0-aucpr:0.644148\n",
            "[71]\tvalidation_0-aucpr:0.643966\n",
            "[72]\tvalidation_0-aucpr:0.643439\n",
            "[73]\tvalidation_0-aucpr:0.643717\n",
            "[74]\tvalidation_0-aucpr:0.643874\n",
            "[75]\tvalidation_0-aucpr:0.643815\n",
            "[76]\tvalidation_0-aucpr:0.64349\n",
            "[77]\tvalidation_0-aucpr:0.643532\n",
            "[78]\tvalidation_0-aucpr:0.643428\n",
            "[79]\tvalidation_0-aucpr:0.643084\n",
            "[80]\tvalidation_0-aucpr:0.64345\n",
            "[81]\tvalidation_0-aucpr:0.643343\n",
            "[82]\tvalidation_0-aucpr:0.643283\n",
            "[83]\tvalidation_0-aucpr:0.643297\n",
            "[84]\tvalidation_0-aucpr:0.644275\n",
            "[85]\tvalidation_0-aucpr:0.643612\n",
            "[86]\tvalidation_0-aucpr:0.643551\n",
            "[87]\tvalidation_0-aucpr:0.64377\n",
            "[88]\tvalidation_0-aucpr:0.643661\n",
            "[89]\tvalidation_0-aucpr:0.643299\n",
            "[90]\tvalidation_0-aucpr:0.643677\n",
            "[91]\tvalidation_0-aucpr:0.643615\n",
            "[92]\tvalidation_0-aucpr:0.643255\n",
            "[93]\tvalidation_0-aucpr:0.64263\n",
            "[94]\tvalidation_0-aucpr:0.641957\n",
            "[95]\tvalidation_0-aucpr:0.641812\n",
            "[96]\tvalidation_0-aucpr:0.641761\n",
            "[97]\tvalidation_0-aucpr:0.642422\n",
            "[98]\tvalidation_0-aucpr:0.642321\n",
            "[99]\tvalidation_0-aucpr:0.641909\n",
            "Stopping. Best iteration:\n",
            "[69]\tvalidation_0-aucpr:0.644624\n",
            "\n"
          ],
          "name": "stdout"
        },
        {
          "output_type": "execute_result",
          "data": {
            "text/plain": [
              "XGBClassifier(base_score=0.5, booster='gbtree', colsample_bylevel=1,\n",
              "              colsample_bynode=1, colsample_bytree=1, gamma=0,\n",
              "              learning_rate=0.1, max_delta_step=0, max_depth=3,\n",
              "              min_child_weight=1, missing=None, n_estimators=100, n_jobs=1,\n",
              "              nthread=None, objective='binary:logistic', random_state=0,\n",
              "              reg_alpha=0, reg_lambda=1, scale_pos_weight=1, seed=42,\n",
              "              silent=None, subsample=1, use_label_encoder=False, verbosity=1)"
            ]
          },
          "metadata": {
            "tags": []
          },
          "execution_count": 53
        }
      ]
    },
    {
      "cell_type": "code",
      "metadata": {
        "colab": {
          "base_uri": "https://localhost:8080/",
          "height": 302
        },
        "id": "MMkcfrVwGQn1",
        "outputId": "4a824300-ed27-434d-877d-77a72abaa60e"
      },
      "source": [
        "#TESTING DATASET AND DRAWING CONFUSION MATRIX\n",
        "plot_confusion_matrix(clf_xgb,\n",
        "                      X_test,\n",
        "                      y_test,\n",
        "                      values_format='d',\n",
        "                     display_labels=['Did not leave', 'Left'])"
      ],
      "execution_count": 54,
      "outputs": [
        {
          "output_type": "execute_result",
          "data": {
            "text/plain": [
              "<sklearn.metrics._plot.confusion_matrix.ConfusionMatrixDisplay at 0x7fa2cbc016d0>"
            ]
          },
          "metadata": {
            "tags": []
          },
          "execution_count": 54
        },
        {
          "output_type": "display_data",
          "data": {
            "image/png": "[encoded data removed]",
            "text/plain": [
              "<Figure size 432x288 with 2 Axes>"
            ]
          },
          "metadata": {
            "tags": []
          }
        }
      ]
    },
    {
      "cell_type": "markdown",
      "metadata": {
        "id": "YquXKwYtGQn2"
      },
      "source": [
        "<b>1294</b> people <b>who did not leave</b>\n",
        " <b>1182 (91%)</b> were correctly classified. \n",
        " And of the<b>467</b> people that <b>left the company</b> \n",
        " <b>222 (47%)</b> were correctly classified. Hence there XGBoost model was not awesome. "
      ]
    },
    {
      "cell_type": "code",
      "metadata": {
        "id": "OwpvU0SYGQn2"
      },
      "source": [
        "y_pred =  clf_xgb.predict(X_test)"
      ],
      "execution_count": 55,
      "outputs": []
    },
    {
      "cell_type": "code",
      "metadata": {
        "id": "O5ltVH-mGQn3"
      },
      "source": [
        "y_prob =  clf_xgb.predict_proba(X_test)"
      ],
      "execution_count": 56,
      "outputs": []
    },
    {
      "cell_type": "code",
      "metadata": {
        "colab": {
          "base_uri": "https://localhost:8080/"
        },
        "id": "3S-vGi8zGQn4",
        "outputId": "22872a19-d616-492c-d13f-e624518ed11d"
      },
      "source": [
        "print_evaluation_metric(y_test, y_pred)"
      ],
      "execution_count": 57,
      "outputs": [
        {
          "output_type": "stream",
          "text": [
            "Precision: [0.82831114 0.66467066]\n",
            "Recall: [0.91344668 0.47537473]\n",
            "F-score: [0.86879824 0.55430712]\n",
            "Support: [1294  467]\n"
          ],
          "name": "stdout"
        }
      ]
    },
    {
      "cell_type": "code",
      "metadata": {
        "colab": {
          "base_uri": "https://localhost:8080/",
          "height": 518
        },
        "id": "5aZbW9zuGQn4",
        "outputId": "e3dcee0d-b934-4a74-90fe-07150b7f38fe"
      },
      "source": [
        "plot_roc_curve(y_test, y_prob, filename=\"ROC1.png\", dpi=20)"
      ],
      "execution_count": 58,
      "outputs": [
        {
          "output_type": "display_data",
          "data": {
            "image/png": "[encoded data removed]",
            "text/plain": [
              "<Figure size 720x576 with 1 Axes>"
            ]
          },
          "metadata": {
            "tags": []
          }
        }
      ]
    },
    {
      "cell_type": "markdown",
      "metadata": {
        "id": "D6FMhOZmGQn5"
      },
      "source": [
        "## Optimise Paramaters using Cross Validation and GridSearchCV()"
      ]
    },
    {
      "cell_type": "markdown",
      "metadata": {
        "id": "699mcSTPGQoH"
      },
      "source": [
        "<b>XGBoost</b> has a lot of parameters that we have to manually configure and are nor determined by <b>XGBoost</b> itself, including <code>max_depth</code>, the maximum tree depth, <code>learning_rate</code>, or \"eta\", <code>gamma</code>, the parameter that encourages pruning, and <code>reg_lambda</code>, the regularization parameter lambda. So lets try to find the optimal values for these parameters in hopes that we can improve the accuracy with the <b>Testing Dataset</b><br>\n",
        "\n",
        "We have a lot of parameters hence testing them one by one would be very time consuming. Luckily we can use <code>GridSearchCV</code>. With this we can specify a list of potential values for the hyperparameters and <code>GridSearchCV</code> test all possible parameter combinations and returns the results."
      ]
    },
    {
      "cell_type": "code",
      "metadata": {
        "id": "3oY7kD0xGQoI"
      },
      "source": [
        "param_grid = {\n",
        "    'max_depth': [3, 4, 5],\n",
        "    'learning_rate': [0.1, 0.01, 0.05],\n",
        "    'gamma': [0, 0.25, 0.5, 1.0, 10.0],\n",
        "    'reg_lambda': [0.1, 1.0, 5.0, 10.0, 20.0],\n",
        "    'scale_pos_weight': [1, 3, 5]\n",
        "}\n",
        "\n",
        "estimator = xgb.XGBClassifier(objective = 'binary:logistic')"
      ],
      "execution_count": 59,
      "outputs": []
    },
    {
      "cell_type": "code",
      "metadata": {
        "id": "yIarvR7MGQoJ"
      },
      "source": [
        "cv_clf = GridSearchCV(estimator,\n",
        "                      param_grid=param_grid,\n",
        "                      scoring='roc_auc', # see see sklearn model evaluation docs\n",
        "                      verbose=2, # Note: if you want to see what Gridsearch is doing set to 2, otherwise 0\n",
        "                      n_jobs=10,\n",
        "                      cv=5)"
      ],
      "execution_count": 60,
      "outputs": []
    },
    {
      "cell_type": "code",
      "metadata": {
        "colab": {
          "base_uri": "https://localhost:8080/"
        },
        "id": "-vZFyv9vGQoJ",
        "outputId": "8fdba387-87b8-4a3c-90af-c84ba88b8937"
      },
      "source": [
        "cv_clf.fit(X_train,\n",
        "           y_train,\n",
        "           early_stopping_rounds=10,\n",
        "           eval_metric='auc',\n",
        "           eval_set=[(X_test, y_test)],\n",
        "           verbose=True)"
      ],
      "execution_count": null,
      "outputs": [
        {
          "output_type": "stream",
          "text": [
            "Fitting 5 folds for each of 675 candidates, totalling 3375 fits\n"
          ],
          "name": "stdout"
        },
        {
          "output_type": "stream",
          "text": [
            "[Parallel(n_jobs=10)]: Using backend LokyBackend with 10 concurrent workers.\n",
            "[Parallel(n_jobs=10)]: Done  21 tasks      | elapsed:   13.6s\n",
            "[Parallel(n_jobs=10)]: Done 142 tasks      | elapsed:   42.5s\n",
            "[Parallel(n_jobs=10)]: Done 345 tasks      | elapsed:  1.4min\n"
          ],
          "name": "stderr"
        }
      ]
    },
    {
      "cell_type": "code",
      "metadata": {
        "colab": {
          "base_uri": "https://localhost:8080/"
        },
        "id": "meCEr20RGQoK",
        "outputId": "6eec2be9-9ecc-47a0-acac-2a26839c1ac4"
      },
      "source": [
        "best_score = cv_clf.best_score_\n",
        "best_params = cv_clf.best_params_\n",
        "print(f'Best score: {best_score}')\n",
        "print('Best params: ')\n",
        "for param_name in sorted(best_params.keys()):\n",
        "    print(f'{param_name}: {best_params[param_name]}')"
      ],
      "execution_count": 77,
      "outputs": [
        {
          "output_type": "stream",
          "text": [
            "Best score: 0.841828082170242\n",
            "Best params: \n",
            "gamma: 0\n",
            "learning_rate: 0.1\n",
            "max_depth: 3\n",
            "reg_lambda: 10.0\n",
            "scale_pos_weight: 5\n"
          ],
          "name": "stdout"
        }
      ]
    },
    {
      "cell_type": "markdown",
      "metadata": {
        "id": "pRCo0RGpGQoL"
      },
      "source": [
        "So after testing all possible combinations of potential parameter values with <b>Cross Validation</b>, we that we should set <code>gamma=0.0</code>, <code>learn_rate=0.1</code>, <code>max_depth=3</code>, <code>reg_lambda=10.0</code> and <code>scale_pos_weight=5</code>"
      ]
    },
    {
      "cell_type": "markdown",
      "metadata": {
        "id": "alwVParjGQoM"
      },
      "source": [
        "## Building, Evaluating, Drawing, and Interpreting the Optimized XGBoost Model."
      ]
    },
    {
      "cell_type": "code",
      "metadata": {
        "colab": {
          "base_uri": "https://localhost:8080/"
        },
        "id": "_R7yAsuCGQoM",
        "outputId": "8a519adf-eb33-4198-c96f-b70de049692e"
      },
      "source": [
        "best_xgb = xgb.XGBClassifier(seed=42,\n",
        "                           objective='binary:logistic',\n",
        "                           gamma=0.0,\n",
        "                           learn_rate=0.1,\n",
        "                           max_depth=3,\n",
        "                           reg_lambda=10.0,\n",
        "                           scale_pos_weight=5\n",
        "                           )\n",
        "best_xgb.fit(X_train,\n",
        "           y_train,\n",
        "           eval_metric='aucpr',\n",
        "           eval_set=[(X_test, y_test)])"
      ],
      "execution_count": 78,
      "outputs": [
        {
          "output_type": "stream",
          "text": [
            "[0]\tvalidation_0-aucpr:0.55226\n",
            "[1]\tvalidation_0-aucpr:0.559246\n",
            "[2]\tvalidation_0-aucpr:0.576711\n",
            "[3]\tvalidation_0-aucpr:0.576475\n",
            "[4]\tvalidation_0-aucpr:0.58454\n",
            "[5]\tvalidation_0-aucpr:0.58273\n",
            "[6]\tvalidation_0-aucpr:0.588353\n",
            "[7]\tvalidation_0-aucpr:0.588102\n",
            "[8]\tvalidation_0-aucpr:0.587675\n",
            "[9]\tvalidation_0-aucpr:0.590054\n",
            "[10]\tvalidation_0-aucpr:0.590432\n",
            "[11]\tvalidation_0-aucpr:0.588777\n",
            "[12]\tvalidation_0-aucpr:0.602886\n",
            "[13]\tvalidation_0-aucpr:0.601678\n",
            "[14]\tvalidation_0-aucpr:0.601914\n",
            "[15]\tvalidation_0-aucpr:0.604745\n",
            "[16]\tvalidation_0-aucpr:0.605842\n",
            "[17]\tvalidation_0-aucpr:0.614594\n",
            "[18]\tvalidation_0-aucpr:0.616013\n",
            "[19]\tvalidation_0-aucpr:0.61726\n",
            "[20]\tvalidation_0-aucpr:0.618149\n",
            "[21]\tvalidation_0-aucpr:0.615033\n",
            "[22]\tvalidation_0-aucpr:0.615318\n",
            "[23]\tvalidation_0-aucpr:0.613226\n",
            "[24]\tvalidation_0-aucpr:0.614127\n",
            "[25]\tvalidation_0-aucpr:0.614865\n",
            "[26]\tvalidation_0-aucpr:0.622358\n",
            "[27]\tvalidation_0-aucpr:0.623463\n",
            "[28]\tvalidation_0-aucpr:0.627103\n",
            "[29]\tvalidation_0-aucpr:0.624798\n",
            "[30]\tvalidation_0-aucpr:0.625461\n",
            "[31]\tvalidation_0-aucpr:0.627707\n",
            "[32]\tvalidation_0-aucpr:0.631373\n",
            "[33]\tvalidation_0-aucpr:0.634697\n",
            "[34]\tvalidation_0-aucpr:0.635096\n",
            "[35]\tvalidation_0-aucpr:0.636462\n",
            "[36]\tvalidation_0-aucpr:0.636804\n",
            "[37]\tvalidation_0-aucpr:0.636099\n",
            "[38]\tvalidation_0-aucpr:0.638602\n",
            "[39]\tvalidation_0-aucpr:0.641988\n",
            "[40]\tvalidation_0-aucpr:0.640165\n",
            "[41]\tvalidation_0-aucpr:0.63967\n",
            "[42]\tvalidation_0-aucpr:0.639659\n",
            "[43]\tvalidation_0-aucpr:0.638982\n",
            "[44]\tvalidation_0-aucpr:0.638878\n",
            "[45]\tvalidation_0-aucpr:0.64064\n",
            "[46]\tvalidation_0-aucpr:0.641456\n",
            "[47]\tvalidation_0-aucpr:0.642464\n",
            "[48]\tvalidation_0-aucpr:0.642466\n",
            "[49]\tvalidation_0-aucpr:0.641059\n",
            "[50]\tvalidation_0-aucpr:0.641051\n",
            "[51]\tvalidation_0-aucpr:0.641164\n",
            "[52]\tvalidation_0-aucpr:0.641892\n",
            "[53]\tvalidation_0-aucpr:0.64184\n",
            "[54]\tvalidation_0-aucpr:0.643608\n",
            "[55]\tvalidation_0-aucpr:0.643647\n",
            "[56]\tvalidation_0-aucpr:0.643421\n",
            "[57]\tvalidation_0-aucpr:0.643318\n",
            "[58]\tvalidation_0-aucpr:0.643205\n",
            "[59]\tvalidation_0-aucpr:0.645257\n",
            "[60]\tvalidation_0-aucpr:0.645496\n",
            "[61]\tvalidation_0-aucpr:0.645434\n",
            "[62]\tvalidation_0-aucpr:0.645191\n",
            "[63]\tvalidation_0-aucpr:0.644892\n",
            "[64]\tvalidation_0-aucpr:0.644729\n",
            "[65]\tvalidation_0-aucpr:0.644768\n",
            "[66]\tvalidation_0-aucpr:0.64482\n",
            "[67]\tvalidation_0-aucpr:0.6436\n",
            "[68]\tvalidation_0-aucpr:0.643652\n",
            "[69]\tvalidation_0-aucpr:0.645226\n",
            "[70]\tvalidation_0-aucpr:0.644168\n",
            "[71]\tvalidation_0-aucpr:0.644094\n",
            "[72]\tvalidation_0-aucpr:0.644072\n",
            "[73]\tvalidation_0-aucpr:0.645285\n",
            "[74]\tvalidation_0-aucpr:0.645294\n",
            "[75]\tvalidation_0-aucpr:0.645408\n",
            "[76]\tvalidation_0-aucpr:0.64525\n",
            "[77]\tvalidation_0-aucpr:0.645193\n",
            "[78]\tvalidation_0-aucpr:0.646435\n",
            "[79]\tvalidation_0-aucpr:0.645936\n",
            "[80]\tvalidation_0-aucpr:0.645788\n",
            "[81]\tvalidation_0-aucpr:0.645884\n",
            "[82]\tvalidation_0-aucpr:0.646502\n",
            "[83]\tvalidation_0-aucpr:0.646766\n",
            "[84]\tvalidation_0-aucpr:0.646782\n",
            "[85]\tvalidation_0-aucpr:0.646764\n",
            "[86]\tvalidation_0-aucpr:0.647121\n",
            "[87]\tvalidation_0-aucpr:0.647007\n",
            "[88]\tvalidation_0-aucpr:0.646448\n",
            "[89]\tvalidation_0-aucpr:0.645761\n",
            "[90]\tvalidation_0-aucpr:0.64578\n",
            "[91]\tvalidation_0-aucpr:0.646799\n",
            "[92]\tvalidation_0-aucpr:0.647014\n",
            "[93]\tvalidation_0-aucpr:0.646975\n",
            "[94]\tvalidation_0-aucpr:0.64645\n",
            "[95]\tvalidation_0-aucpr:0.646224\n",
            "[96]\tvalidation_0-aucpr:0.646723\n",
            "[97]\tvalidation_0-aucpr:0.64674\n",
            "[98]\tvalidation_0-aucpr:0.646732\n",
            "[99]\tvalidation_0-aucpr:0.647393\n"
          ],
          "name": "stdout"
        },
        {
          "output_type": "execute_result",
          "data": {
            "text/plain": [
              "XGBClassifier(base_score=0.5, booster='gbtree', colsample_bylevel=1,\n",
              "              colsample_bynode=1, colsample_bytree=1, gamma=0.0, learn_rate=0.1,\n",
              "              learning_rate=0.1, max_delta_step=0, max_depth=3,\n",
              "              min_child_weight=1, missing=None, n_estimators=100, n_jobs=1,\n",
              "              nthread=None, objective='binary:logistic', random_state=0,\n",
              "              reg_alpha=0, reg_lambda=10.0, scale_pos_weight=5, seed=42,\n",
              "              silent=None, subsample=1, verbosity=1)"
            ]
          },
          "metadata": {
            "tags": []
          },
          "execution_count": 78
        }
      ]
    },
    {
      "cell_type": "markdown",
      "metadata": {
        "id": "5aEp-p2oGQoN"
      },
      "source": [
        "Now lets draw another confusion matrix using the optimised <b>XGBoost</b> to see if it performs any better."
      ]
    },
    {
      "cell_type": "code",
      "metadata": {
        "colab": {
          "base_uri": "https://localhost:8080/",
          "height": 304
        },
        "id": "0g9Rk5ONGQoO",
        "outputId": "beb324a5-fbeb-4c8b-bd79-390364ccb5f5"
      },
      "source": [
        "plot_confusion_matrix(best_xgb,\n",
        "                     X_test,\n",
        "                     y_test,\n",
        "                     values_format='d',\n",
        "                     display_labels=['Did not leave', 'Left'])"
      ],
      "execution_count": 79,
      "outputs": [
        {
          "output_type": "execute_result",
          "data": {
            "text/plain": [
              "<sklearn.metrics._plot.confusion_matrix.ConfusionMatrixDisplay at 0x7fa2c96e8510>"
            ]
          },
          "metadata": {
            "tags": []
          },
          "execution_count": 79
        },
        {
          "output_type": "display_data",
          "data": {
            "image/png": "[encoded data removed]",
            "text/plain": [
              "<Figure size 432x288 with 2 Axes>"
            ]
          },
          "metadata": {
            "tags": []
          }
        }
      ]
    },
    {
      "cell_type": "markdown",
      "metadata": {
        "id": "_UHbSx6JGQoO"
      },
      "source": [
        "We see that the optimized <b>XGBoost</b> model is a lot better at identifying people that <b>left the company</b>. Of the <b>467</b> people that left the company, <b>411 (88%)</b> were correctly identified. Before the optimisation, we only correctly identified <b>222 (47%)</b>. However the improvement was at the expense of people who did not leave. Before the optimisation we correctly identified <b>1182 (91%)</b> people that did not leave. Now we correctly classified <b>805 (65%)</b>. That said this may be better since we are more interested in people who might leave the company."
      ]
    },
    {
      "cell_type": "code",
      "metadata": {
        "id": "45n1l_FHGQoP"
      },
      "source": [
        "y_pred =  best_xgb.predict(X_test)"
      ],
      "execution_count": 80,
      "outputs": []
    },
    {
      "cell_type": "code",
      "metadata": {
        "id": "baRYFzyaGQoQ"
      },
      "source": [
        "y_prob =  best_xgb.predict_proba(X_test)"
      ],
      "execution_count": 81,
      "outputs": []
    },
    {
      "cell_type": "code",
      "metadata": {
        "colab": {
          "base_uri": "https://localhost:8080/"
        },
        "id": "FcDIjb0ZGQoQ",
        "outputId": "fd48635e-5fc3-4b36-ef97-2e111647b86c"
      },
      "source": [
        "print_evaluation_metric(y_test, y_pred)"
      ],
      "execution_count": 82,
      "outputs": [
        {
          "output_type": "stream",
          "text": [
            "Precision: [0.93495935 0.45666667]\n",
            "Recall: [0.62210201 0.88008565]\n",
            "F-score: [0.74709977 0.60131675]\n",
            "Support: [1294  467]\n"
          ],
          "name": "stdout"
        }
      ]
    },
    {
      "cell_type": "code",
      "metadata": {
        "colab": {
          "base_uri": "https://localhost:8080/",
          "height": 518
        },
        "id": "IfPzuIBJGQoR",
        "outputId": "e7ac5e85-2fd5-4feb-9ab0-40a93ba59688"
      },
      "source": [
        "plot_roc_curve(y_test, y_prob, filename=\"ROC2.png\", dpi=20)"
      ],
      "execution_count": 85,
      "outputs": [
        {
          "output_type": "display_data",
          "data": {
            "image/png": "[encoded data removed]",
            "text/plain": [
              "<Figure size 720x576 with 1 Axes>"
            ]
          },
          "metadata": {
            "tags": []
          }
        }
      ]
    },
    {
      "cell_type": "code",
      "metadata": {
        "colab": {
          "base_uri": "https://localhost:8080/",
          "height": 664
        },
        "id": "ljOb4wKqGQoS",
        "outputId": "f87eabd3-92f7-42cb-e677-f6b5d637b15c"
      },
      "source": [
        "#A Visual of the XGBoost Tree\n",
        "\n",
        "\n",
        "best_xgb = xgb.XGBClassifier(seed=42,\n",
        "                           objective='binary:logistic',\n",
        "                           gamma=10.0,\n",
        "                           learn_rate=0.1,\n",
        "                           max_depth=5,\n",
        "                           reg_lambda=10.0,\n",
        "                           scale_pos_weight=5,\n",
        "                           subsample=0.9,\n",
        "                           colsample=0.5,\n",
        "                           n_estimators=1 ## We set this to 1 so we can get gain, cover etc\n",
        "                           )\n",
        "\n",
        "best_xgb.fit(X_train,\n",
        "           y_train)\n",
        "\n",
        "bst = best_xgb.get_booster()\n",
        "for importance_type in ('weight', 'gain', 'cover', 'total_gain', 'total_cover'):\n",
        "    print('%s: ' % importance_type, bst.get_score(importance_type=importance_type))\n",
        "\n",
        "node_params = {\n",
        "    'shape': 'box',\n",
        "    'style': 'filled rounded',\n",
        "    'fillcolor': '#78cbe'\n",
        "}\n",
        "\n",
        "leaf_params = {\n",
        "    'shape': 'box',\n",
        "    'style': 'filled',\n",
        "    'fillcover': '#e48038'\n",
        "}\n",
        "\n",
        "## Note: num_trees is not the number of trees to plot, but the specific tree you want to plot\n",
        "## The default value is 0, but im setting it to show it in action since it is counter-intuitive\n",
        "## xgb.to_graphviz(clf_xgb, num_trees=0, size=\"10,10\")\n",
        "\n",
        "xgb.to_graphviz(best_xgb, num_trees=0, size=\"10,10\",\n",
        "               condition_node_params=node_params, \n",
        "              leaf_node_params=leaf_params)\n",
        "\n",
        "## If you want to save the figure\n",
        "# graph_data = xgb.to_graphviz(clf_xgb, num_trees=0, size=\"10,10\", condition_node_params=node_params, \n",
        "#                leaf_node_params=leaf_node_params)\n",
        "# graph_data.view(filename='xgboost_tree_customer_churn') ## save as PDF"
      ],
      "execution_count": 83,
      "outputs": [
        {
          "output_type": "stream",
          "text": [
            "Warning: gvrender_set_style: unsupported style filled rounded - ignoring\n",
            "Warning: gvrender_set_style: unsupported style filled rounded - ignoring\n",
            "Warning: gvrender_set_style: unsupported style filled rounded - ignoring\n",
            "Warning: gvrender_set_style: unsupported style filled rounded - ignoring\n",
            "Warning: gvrender_set_style: unsupported style filled rounded - ignoring\n",
            "Warning: gvrender_set_style: unsupported style filled rounded - ignoring\n",
            "Warning: gvrender_set_style: unsupported style filled rounded - ignoring\n",
            "Warning: gvrender_set_style: unsupported style filled rounded - ignoring\n",
            "Warning: gvrender_set_style: unsupported style filled rounded - ignoring\n",
            "Warning: gvrender_set_style: unsupported style filled rounded - ignoring\n",
            "Warning: gvrender_set_style: unsupported style filled rounded - ignoring\n",
            "Warning: gvrender_set_style: unsupported style filled rounded - ignoring\n",
            "Warning: gvrender_set_style: unsupported style filled rounded - ignoring\n",
            "Warning: gvrender_set_style: unsupported style filled rounded - ignoring\n",
            "Warning: gvrender_set_style: unsupported style filled rounded - ignoring\n",
            "Warning: gvrender_set_style: unsupported style filled rounded - ignoring\n",
            "Warning: gvrender_set_style: unsupported style filled rounded - ignoring\n",
            "Warning: gvrender_set_style: unsupported style filled rounded - ignoring\n"
          ],
          "name": "stderr"
        },
        {
          "output_type": "stream",
          "text": [
            "weight:  {'Contract_Month-to-month': 1, 'MonthlyCharges': 7, 'Contract_One_year': 2, 'gender_Female': 1, 'TotalCharges': 5, 'Dependents_No': 1, 'PaymentMethod_Electronic_check': 1}\n",
            "gain:  {'Contract_Month-to-month': 2073.73193, 'MonthlyCharges': 86.62023222857144, 'Contract_One_year': 58.420160300000006, 'gender_Female': 18.9935722, 'TotalCharges': 55.29686774, 'Dependents_No': 10.5209274, 'PaymentMethod_Electronic_check': 23.3646851}\n",
            "cover:  {'Contract_Month-to-month': 2447.25, 'MonthlyCharges': 507.0357142857143, 'Contract_One_year': 341.5, 'gender_Female': 154.25, 'TotalCharges': 431.95, 'Dependents_No': 127.0, 'PaymentMethod_Electronic_check': 538.5}\n",
            "total_gain:  {'Contract_Month-to-month': 2073.73193, 'MonthlyCharges': 606.3416256, 'Contract_One_year': 116.84032060000001, 'gender_Female': 18.9935722, 'TotalCharges': 276.4843387, 'Dependents_No': 10.5209274, 'PaymentMethod_Electronic_check': 23.3646851}\n",
            "total_cover:  {'Contract_Month-to-month': 2447.25, 'MonthlyCharges': 3549.25, 'Contract_One_year': 683.0, 'gender_Female': 154.25, 'TotalCharges': 2159.75, 'Dependents_No': 127.0, 'PaymentMethod_Electronic_check': 538.5}\n"
          ],
          "name": "stdout"
        },
        {
          "output_type": "execute_result",
          "data": {
            "text/plain": [
              "<graphviz.dot.Digraph at 0x7fa2c983c090>"
            ],
            "image/svg+xml": "<?xml version=\"1.0\" encoding=\"UTF-8\" standalone=\"no\"?>\n<!DOCTYPE svg PUBLIC \"-//W3C//DTD SVG 1.1//EN\"\n \"http://www.w3.org/Graphics/SVG/1.1/DTD/svg11.dtd\">\n<!-- Generated by graphviz version 2.40.1 (20161225.0304)\n -->\n<!-- Title: %3 Pages: 1 -->\n<svg width=\"720pt\" height=\"174pt\"\n viewBox=\"0.00 0.00 720.00 174.09\" xmlns=\"http://www.w3.org/2000/svg\" xmlns:xlink=\"http://www.w3.org/1999/xlink\">\n<g id=\"graph0\" class=\"graph\" transform=\"scale(.3635 .3635) rotate(0) translate(4 475)\">\n<title>%3</title>\n<polygon fill=\"#ffffff\" stroke=\"transparent\" points=\"-4,4 -4,-475 1977,-475 1977,4 -4,4\"/>\n<!-- 0 -->\n<g id=\"node1\" class=\"node\">\n<title>0</title>\n<polygon fill=\"none\" stroke=\"#000000\" points=\"1028.5,-471 843.5,-471 843.5,-435 1028.5,-435 1028.5,-471\"/>\n<text text-anchor=\"middle\" x=\"936\" y=\"-449.3\" font-family=\"Times,serif\" font-size=\"14.00\" fill=\"#000000\">Contract_Month&#45;to&#45;month&lt;1</text>\n</g>\n<!-- 1 -->\n<g id=\"node2\" class=\"node\">\n<title>1</title>\n<polygon fill=\"none\" stroke=\"#000000\" points=\"747.5,-384 554.5,-384 554.5,-348 747.5,-348 747.5,-384\"/>\n<text text-anchor=\"middle\" x=\"651\" y=\"-362.3\" font-family=\"Times,serif\" font-size=\"14.00\" fill=\"#000000\">MonthlyCharges&lt;93.6750031</text>\n</g>\n<!-- 0&#45;&gt;1 -->\n<g id=\"edge1\" class=\"edge\">\n<title>0&#45;&gt;1</title>\n<path fill=\"none\" stroke=\"#0000ff\" d=\"M876.9478,-434.9735C831.1874,-421.0046 767.7005,-401.6244 719.6721,-386.9631\"/>\n<polygon fill=\"#0000ff\" stroke=\"#0000ff\" points=\"720.5627,-383.5756 709.9765,-384.0034 718.5189,-390.2706 720.5627,-383.5756\"/>\n<text text-anchor=\"middle\" x=\"846.5\" y=\"-405.8\" font-family=\"Times,serif\" font-size=\"14.00\" fill=\"#000000\">yes, missing</text>\n</g>\n<!-- 2 -->\n<g id=\"node3\" class=\"node\">\n<title>2</title>\n<polygon fill=\"none\" stroke=\"#000000\" points=\"1313.5,-384 1150.5,-384 1150.5,-348 1313.5,-348 1313.5,-384\"/>\n<text text-anchor=\"middle\" x=\"1232\" y=\"-362.3\" font-family=\"Times,serif\" font-size=\"14.00\" fill=\"#000000\">MonthlyCharges&lt;67.875</text>\n</g>\n<!-- 0&#45;&gt;2 -->\n<g id=\"edge2\" class=\"edge\">\n<title>0&#45;&gt;2</title>\n<path fill=\"none\" stroke=\"#ff0000\" d=\"M997.3314,-434.9735C1044.9572,-420.9754 1111.0707,-401.5434 1160.9896,-386.8713\"/>\n<polygon fill=\"#ff0000\" stroke=\"#ff0000\" points=\"1162.14,-390.1813 1170.7472,-384.0034 1160.166,-383.4654 1162.14,-390.1813\"/>\n<text text-anchor=\"middle\" x=\"1110\" y=\"-405.8\" font-family=\"Times,serif\" font-size=\"14.00\" fill=\"#000000\">no</text>\n</g>\n<!-- 3 -->\n<g id=\"node4\" class=\"node\">\n<title>3</title>\n<polygon fill=\"none\" stroke=\"#000000\" points=\"315,-297 171,-297 171,-261 315,-261 315,-297\"/>\n<text text-anchor=\"middle\" x=\"243\" y=\"-275.3\" font-family=\"Times,serif\" font-size=\"14.00\" fill=\"#000000\">Contract_One_year&lt;1</text>\n</g>\n<!-- 1&#45;&gt;3 -->\n<g id=\"edge3\" class=\"edge\">\n<title>1&#45;&gt;3</title>\n<path fill=\"none\" stroke=\"#0000ff\" d=\"M566.4621,-347.9735C495.7171,-332.8882 395.3772,-311.4922 325.2735,-296.5436\"/>\n<polygon fill=\"#0000ff\" stroke=\"#0000ff\" points=\"325.6669,-293.0489 315.1568,-294.3864 324.207,-299.895 325.6669,-293.0489\"/>\n<text text-anchor=\"middle\" x=\"507.5\" y=\"-318.8\" font-family=\"Times,serif\" font-size=\"14.00\" fill=\"#000000\">yes, missing</text>\n</g>\n<!-- 4 -->\n<g id=\"node5\" class=\"node\">\n<title>4</title>\n<polygon fill=\"none\" stroke=\"#000000\" points=\"723,-297 579,-297 579,-261 723,-261 723,-297\"/>\n<text text-anchor=\"middle\" x=\"651\" y=\"-275.3\" font-family=\"Times,serif\" font-size=\"14.00\" fill=\"#000000\">Contract_One_year&lt;1</text>\n</g>\n<!-- 1&#45;&gt;4 -->\n<g id=\"edge4\" class=\"edge\">\n<title>1&#45;&gt;4</title>\n<path fill=\"none\" stroke=\"#ff0000\" d=\"M651,-347.9735C651,-336.1918 651,-320.5607 651,-307.1581\"/>\n<polygon fill=\"#ff0000\" stroke=\"#ff0000\" points=\"654.5001,-307.0033 651,-297.0034 647.5001,-307.0034 654.5001,-307.0033\"/>\n<text text-anchor=\"middle\" x=\"659\" y=\"-318.8\" font-family=\"Times,serif\" font-size=\"14.00\" fill=\"#000000\">no</text>\n</g>\n<!-- 5 -->\n<g id=\"node20\" class=\"node\">\n<title>5</title>\n<polygon fill=\"none\" stroke=\"#000000\" points=\"1299,-297 1165,-297 1165,-261 1299,-261 1299,-297\"/>\n<text text-anchor=\"middle\" x=\"1232\" y=\"-275.3\" font-family=\"Times,serif\" font-size=\"14.00\" fill=\"#000000\">TotalCharges&lt;226.5</text>\n</g>\n<!-- 2&#45;&gt;5 -->\n<g id=\"edge19\" class=\"edge\">\n<title>2&#45;&gt;5</title>\n<path fill=\"none\" stroke=\"#0000ff\" d=\"M1232,-347.9735C1232,-336.1918 1232,-320.5607 1232,-307.1581\"/>\n<polygon fill=\"#0000ff\" stroke=\"#0000ff\" points=\"1235.5001,-307.0033 1232,-297.0034 1228.5001,-307.0034 1235.5001,-307.0033\"/>\n<text text-anchor=\"middle\" x=\"1267.5\" y=\"-318.8\" font-family=\"Times,serif\" font-size=\"14.00\" fill=\"#000000\">yes, missing</text>\n</g>\n<!-- 6 -->\n<g id=\"node21\" class=\"node\">\n<title>6</title>\n<polygon fill=\"none\" stroke=\"#000000\" points=\"1626,-297 1462,-297 1462,-261 1626,-261 1626,-297\"/>\n<text text-anchor=\"middle\" x=\"1544\" y=\"-275.3\" font-family=\"Times,serif\" font-size=\"14.00\" fill=\"#000000\">TotalCharges&lt;1150.6001</text>\n</g>\n<!-- 2&#45;&gt;6 -->\n<g id=\"edge20\" class=\"edge\">\n<title>2&#45;&gt;6</title>\n<path fill=\"none\" stroke=\"#ff0000\" d=\"M1296.6466,-347.9735C1346.9514,-333.9462 1416.8244,-314.4624 1469.4798,-299.7797\"/>\n<polygon fill=\"#ff0000\" stroke=\"#ff0000\" points=\"1470.7438,-303.0608 1479.4362,-297.0034 1468.8636,-296.318 1470.7438,-303.0608\"/>\n<text text-anchor=\"middle\" x=\"1415\" y=\"-318.8\" font-family=\"Times,serif\" font-size=\"14.00\" fill=\"#000000\">no</text>\n</g>\n<!-- 7 -->\n<g id=\"node6\" class=\"node\">\n<title>7</title>\n<polygon fill=\"#d3d3d3\" stroke=\"#000000\" points=\"128,-210 0,-210 0,-174 128,-174 128,-210\"/>\n<text text-anchor=\"middle\" x=\"64\" y=\"-188.3\" font-family=\"Times,serif\" font-size=\"14.00\" fill=\"#000000\">leaf=&#45;0.165235177</text>\n</g>\n<!-- 3&#45;&gt;7 -->\n<g id=\"edge5\" class=\"edge\">\n<title>3&#45;&gt;7</title>\n<path fill=\"none\" stroke=\"#0000ff\" d=\"M205.2004,-260.9324C193.2873,-255.2176 180.0848,-248.8633 168,-243 148.8953,-233.7308 127.8569,-223.4313 109.7304,-214.5284\"/>\n<polygon fill=\"#0000ff\" stroke=\"#0000ff\" points=\"111.061,-211.2826 100.5425,-210.013 107.9735,-217.5649 111.061,-211.2826\"/>\n<text text-anchor=\"middle\" x=\"203.5\" y=\"-231.8\" font-family=\"Times,serif\" font-size=\"14.00\" fill=\"#000000\">yes, missing</text>\n</g>\n<!-- 8 -->\n<g id=\"node7\" class=\"node\">\n<title>8</title>\n<polygon fill=\"none\" stroke=\"#000000\" points=\"339.5,-210 146.5,-210 146.5,-174 339.5,-174 339.5,-210\"/>\n<text text-anchor=\"middle\" x=\"243\" y=\"-188.3\" font-family=\"Times,serif\" font-size=\"14.00\" fill=\"#000000\">MonthlyCharges&lt;42.3249969</text>\n</g>\n<!-- 3&#45;&gt;8 -->\n<g id=\"edge6\" class=\"edge\">\n<title>3&#45;&gt;8</title>\n<path fill=\"none\" stroke=\"#ff0000\" d=\"M243,-260.9735C243,-249.1918 243,-233.5607 243,-220.1581\"/>\n<polygon fill=\"#ff0000\" stroke=\"#ff0000\" points=\"246.5001,-220.0033 243,-210.0034 239.5001,-220.0034 246.5001,-220.0033\"/>\n<text text-anchor=\"middle\" x=\"251\" y=\"-231.8\" font-family=\"Times,serif\" font-size=\"14.00\" fill=\"#000000\">no</text>\n</g>\n<!-- 9 -->\n<g id=\"node12\" class=\"node\">\n<title>9</title>\n<polygon fill=\"none\" stroke=\"#000000\" points=\"672,-210 500,-210 500,-174 672,-174 672,-210\"/>\n<text text-anchor=\"middle\" x=\"586\" y=\"-188.3\" font-family=\"Times,serif\" font-size=\"14.00\" fill=\"#000000\">TotalCharges&lt;7755.59961</text>\n</g>\n<!-- 4&#45;&gt;9 -->\n<g id=\"edge11\" class=\"edge\">\n<title>4&#45;&gt;9</title>\n<path fill=\"none\" stroke=\"#0000ff\" d=\"M637.532,-260.9735C628.2937,-248.6085 615.8877,-232.0036 605.5633,-218.1847\"/>\n<polygon fill=\"#0000ff\" stroke=\"#0000ff\" points=\"608.24,-215.9196 599.4508,-210.0034 602.6322,-220.1093 608.24,-215.9196\"/>\n<text text-anchor=\"middle\" x=\"658.5\" y=\"-231.8\" font-family=\"Times,serif\" font-size=\"14.00\" fill=\"#000000\">yes, missing</text>\n</g>\n<!-- 10 -->\n<g id=\"node13\" class=\"node\">\n<title>10</title>\n<polygon fill=\"none\" stroke=\"#000000\" points=\"815.5,-210 690.5,-210 690.5,-174 815.5,-174 815.5,-210\"/>\n<text text-anchor=\"middle\" x=\"753\" y=\"-188.3\" font-family=\"Times,serif\" font-size=\"14.00\" fill=\"#000000\">Dependents_No&lt;1</text>\n</g>\n<!-- 4&#45;&gt;10 -->\n<g id=\"edge12\" class=\"edge\">\n<title>4&#45;&gt;10</title>\n<path fill=\"none\" stroke=\"#ff0000\" d=\"M675.7377,-260.7429C683.0205,-255.184 690.9288,-248.964 698,-243 707.6237,-234.8832 717.8228,-225.6233 726.7902,-217.2414\"/>\n<polygon fill=\"#ff0000\" stroke=\"#ff0000\" points=\"729.4338,-219.5593 734.3081,-210.1522 724.6313,-214.4664 729.4338,-219.5593\"/>\n<text text-anchor=\"middle\" x=\"724\" y=\"-231.8\" font-family=\"Times,serif\" font-size=\"14.00\" fill=\"#000000\">no</text>\n</g>\n<!-- 15 -->\n<g id=\"node8\" class=\"node\">\n<title>15</title>\n<polygon fill=\"#d3d3d3\" stroke=\"#000000\" points=\"165,-123 37,-123 37,-87 165,-87 165,-123\"/>\n<text text-anchor=\"middle\" x=\"101\" y=\"-101.3\" font-family=\"Times,serif\" font-size=\"14.00\" fill=\"#000000\">leaf=&#45;0.128374666</text>\n</g>\n<!-- 8&#45;&gt;15 -->\n<g id=\"edge7\" class=\"edge\">\n<title>8&#45;&gt;15</title>\n<path fill=\"none\" stroke=\"#0000ff\" d=\"M201.3318,-173.8472C190.2584,-168.5284 178.4721,-162.4072 168,-156 155.1563,-148.1418 141.8017,-138.3511 130.4266,-129.455\"/>\n<polygon fill=\"#0000ff\" stroke=\"#0000ff\" points=\"132.5348,-126.6598 122.5291,-123.1759 128.1783,-132.139 132.5348,-126.6598\"/>\n<text text-anchor=\"middle\" x=\"203.5\" y=\"-144.8\" font-family=\"Times,serif\" font-size=\"14.00\" fill=\"#000000\">yes, missing</text>\n</g>\n<!-- 16 -->\n<g id=\"node9\" class=\"node\">\n<title>16</title>\n<polygon fill=\"none\" stroke=\"#000000\" points=\"303,-123 183,-123 183,-87 303,-87 303,-123\"/>\n<text text-anchor=\"middle\" x=\"243\" y=\"-101.3\" font-family=\"Times,serif\" font-size=\"14.00\" fill=\"#000000\">gender_Female&lt;1</text>\n</g>\n<!-- 8&#45;&gt;16 -->\n<g id=\"edge8\" class=\"edge\">\n<title>8&#45;&gt;16</title>\n<path fill=\"none\" stroke=\"#ff0000\" d=\"M243,-173.9735C243,-162.1918 243,-146.5607 243,-133.1581\"/>\n<polygon fill=\"#ff0000\" stroke=\"#ff0000\" points=\"246.5001,-133.0033 243,-123.0034 239.5001,-133.0034 246.5001,-133.0033\"/>\n<text text-anchor=\"middle\" x=\"251\" y=\"-144.8\" font-family=\"Times,serif\" font-size=\"14.00\" fill=\"#000000\">no</text>\n</g>\n<!-- 31 -->\n<g id=\"node10\" class=\"node\">\n<title>31</title>\n<polygon fill=\"#d3d3d3\" stroke=\"#000000\" points=\"163,-36 27,-36 27,0 163,0 163,-36\"/>\n<text text-anchor=\"middle\" x=\"95\" y=\"-14.3\" font-family=\"Times,serif\" font-size=\"14.00\" fill=\"#000000\">leaf=&#45;0.0204488784</text>\n</g>\n<!-- 16&#45;&gt;31 -->\n<g id=\"edge9\" class=\"edge\">\n<title>16&#45;&gt;31</title>\n<path fill=\"none\" stroke=\"#0000ff\" d=\"M204.4051,-86.8333C193.4566,-81.377 181.6276,-75.189 171,-69 156.6948,-60.6694 141.4463,-50.673 128.3914,-41.7462\"/>\n<polygon fill=\"#0000ff\" stroke=\"#0000ff\" points=\"130.3786,-38.8651 120.1611,-36.0628 126.401,-44.6252 130.3786,-38.8651\"/>\n<text text-anchor=\"middle\" x=\"206.5\" y=\"-57.8\" font-family=\"Times,serif\" font-size=\"14.00\" fill=\"#000000\">yes, missing</text>\n</g>\n<!-- 32 -->\n<g id=\"node11\" class=\"node\">\n<title>32</title>\n<polygon fill=\"#d3d3d3\" stroke=\"#000000\" points=\"317,-36 181,-36 181,0 317,0 317,-36\"/>\n<text text-anchor=\"middle\" x=\"249\" y=\"-14.3\" font-family=\"Times,serif\" font-size=\"14.00\" fill=\"#000000\">leaf=&#45;0.0918918923</text>\n</g>\n<!-- 16&#45;&gt;32 -->\n<g id=\"edge10\" class=\"edge\">\n<title>16&#45;&gt;32</title>\n<path fill=\"none\" stroke=\"#ff0000\" d=\"M244.2432,-86.9735C245.0557,-75.1918 246.1337,-59.5607 247.0581,-46.1581\"/>\n<polygon fill=\"#ff0000\" stroke=\"#ff0000\" points=\"250.562,-46.2205 247.7584,-36.0034 243.5786,-45.7388 250.562,-46.2205\"/>\n<text text-anchor=\"middle\" x=\"255\" y=\"-57.8\" font-family=\"Times,serif\" font-size=\"14.00\" fill=\"#000000\">no</text>\n</g>\n<!-- 17 -->\n<g id=\"node14\" class=\"node\">\n<title>17</title>\n<polygon fill=\"none\" stroke=\"#000000\" points=\"514.5,-123 321.5,-123 321.5,-87 514.5,-87 514.5,-123\"/>\n<text text-anchor=\"middle\" x=\"418\" y=\"-101.3\" font-family=\"Times,serif\" font-size=\"14.00\" fill=\"#000000\">MonthlyCharges&lt;105.925003</text>\n</g>\n<!-- 9&#45;&gt;17 -->\n<g id=\"edge13\" class=\"edge\">\n<title>9&#45;&gt;17</title>\n<path fill=\"none\" stroke=\"#0000ff\" d=\"M550.7312,-173.9037C539.6127,-168.1876 527.288,-161.8398 516,-156 498.3206,-146.8537 478.8697,-136.7415 461.989,-127.9497\"/>\n<polygon fill=\"#0000ff\" stroke=\"#0000ff\" points=\"463.3887,-124.7324 452.9029,-123.2158 460.1542,-130.9404 463.3887,-124.7324\"/>\n<text text-anchor=\"middle\" x=\"551.5\" y=\"-144.8\" font-family=\"Times,serif\" font-size=\"14.00\" fill=\"#000000\">yes, missing</text>\n</g>\n<!-- 18 -->\n<g id=\"node15\" class=\"node\">\n<title>18</title>\n<polygon fill=\"#d3d3d3\" stroke=\"#000000\" points=\"661,-123 533,-123 533,-87 661,-87 661,-123\"/>\n<text text-anchor=\"middle\" x=\"597\" y=\"-101.3\" font-family=\"Times,serif\" font-size=\"14.00\" fill=\"#000000\">leaf=&#45;0.135483876</text>\n</g>\n<!-- 9&#45;&gt;18 -->\n<g id=\"edge14\" class=\"edge\">\n<title>9&#45;&gt;18</title>\n<path fill=\"none\" stroke=\"#ff0000\" d=\"M588.2792,-173.9735C589.7689,-162.1918 591.7452,-146.5607 593.4398,-133.1581\"/>\n<polygon fill=\"#ff0000\" stroke=\"#ff0000\" points=\"596.9416,-133.3634 594.7237,-123.0034 589.9969,-132.4853 596.9416,-133.3634\"/>\n<text text-anchor=\"middle\" x=\"601\" y=\"-144.8\" font-family=\"Times,serif\" font-size=\"14.00\" fill=\"#000000\">no</text>\n</g>\n<!-- 19 -->\n<g id=\"node18\" class=\"node\">\n<title>19</title>\n<polygon fill=\"#d3d3d3\" stroke=\"#000000\" points=\"807,-123 679,-123 679,-87 807,-87 807,-123\"/>\n<text text-anchor=\"middle\" x=\"743\" y=\"-101.3\" font-family=\"Times,serif\" font-size=\"14.00\" fill=\"#000000\">leaf=&#45;0.020689657</text>\n</g>\n<!-- 10&#45;&gt;19 -->\n<g id=\"edge17\" class=\"edge\">\n<title>10&#45;&gt;19</title>\n<path fill=\"none\" stroke=\"#0000ff\" d=\"M750.928,-173.9735C749.5738,-162.1918 747.7771,-146.5607 746.2366,-133.1581\"/>\n<polygon fill=\"#0000ff\" stroke=\"#0000ff\" points=\"749.6885,-132.5383 745.0694,-123.0034 742.7342,-133.3376 749.6885,-132.5383\"/>\n<text text-anchor=\"middle\" x=\"784.5\" y=\"-144.8\" font-family=\"Times,serif\" font-size=\"14.00\" fill=\"#000000\">yes, missing</text>\n</g>\n<!-- 20 -->\n<g id=\"node19\" class=\"node\">\n<title>20</title>\n<polygon fill=\"#d3d3d3\" stroke=\"#000000\" points=\"949,-123 825,-123 825,-87 949,-87 949,-123\"/>\n<text text-anchor=\"middle\" x=\"887\" y=\"-101.3\" font-family=\"Times,serif\" font-size=\"14.00\" fill=\"#000000\">leaf=0.043792326</text>\n</g>\n<!-- 10&#45;&gt;20 -->\n<g id=\"edge18\" class=\"edge\">\n<title>10&#45;&gt;20</title>\n<path fill=\"none\" stroke=\"#ff0000\" d=\"M792.5191,-173.8209C803.0017,-168.5022 814.1411,-162.3875 824,-156 836.0462,-148.1953 848.4945,-138.5136 859.1121,-129.6896\"/>\n<polygon fill=\"#ff0000\" stroke=\"#ff0000\" points=\"861.4634,-132.285 866.8376,-123.1544 856.9425,-126.9407 861.4634,-132.285\"/>\n<text text-anchor=\"middle\" x=\"852\" y=\"-144.8\" font-family=\"Times,serif\" font-size=\"14.00\" fill=\"#000000\">no</text>\n</g>\n<!-- 33 -->\n<g id=\"node16\" class=\"node\">\n<title>33</title>\n<polygon fill=\"#d3d3d3\" stroke=\"#000000\" points=\"481,-36 345,-36 345,0 481,0 481,-36\"/>\n<text text-anchor=\"middle\" x=\"413\" y=\"-14.3\" font-family=\"Times,serif\" font-size=\"14.00\" fill=\"#000000\">leaf=&#45;0.0802395269</text>\n</g>\n<!-- 17&#45;&gt;33 -->\n<g id=\"edge15\" class=\"edge\">\n<title>17&#45;&gt;33</title>\n<path fill=\"none\" stroke=\"#0000ff\" d=\"M416.964,-86.9735C416.2869,-75.1918 415.3885,-59.5607 414.6183,-46.1581\"/>\n<polygon fill=\"#0000ff\" stroke=\"#0000ff\" points=\"418.1028,-45.786 414.0347,-36.0034 411.1143,-46.1877 418.1028,-45.786\"/>\n<text text-anchor=\"middle\" x=\"451.5\" y=\"-57.8\" font-family=\"Times,serif\" font-size=\"14.00\" fill=\"#000000\">yes, missing</text>\n</g>\n<!-- 34 -->\n<g id=\"node17\" class=\"node\">\n<title>34</title>\n<polygon fill=\"#d3d3d3\" stroke=\"#000000\" points=\"630.5,-36 499.5,-36 499.5,0 630.5,0 630.5,-36\"/>\n<text text-anchor=\"middle\" x=\"565\" y=\"-14.3\" font-family=\"Times,serif\" font-size=\"14.00\" fill=\"#000000\">leaf=0.0285714306</text>\n</g>\n<!-- 17&#45;&gt;34 -->\n<g id=\"edge16\" class=\"edge\">\n<title>17&#45;&gt;34</title>\n<path fill=\"none\" stroke=\"#ff0000\" d=\"M457.1969,-86.9701C468.2985,-81.516 480.2758,-75.2949 491,-69 504.8849,-60.8498 519.5992,-50.9839 532.2185,-42.1096\"/>\n<polygon fill=\"#ff0000\" stroke=\"#ff0000\" points=\"534.4651,-44.8067 540.5842,-36.1576 530.407,-39.103 534.4651,-44.8067\"/>\n<text text-anchor=\"middle\" x=\"523\" y=\"-57.8\" font-family=\"Times,serif\" font-size=\"14.00\" fill=\"#000000\">no</text>\n</g>\n<!-- 11 -->\n<g id=\"node22\" class=\"node\">\n<title>11</title>\n<polygon fill=\"none\" stroke=\"#000000\" points=\"1252.5,-210 1059.5,-210 1059.5,-174 1252.5,-174 1252.5,-210\"/>\n<text text-anchor=\"middle\" x=\"1156\" y=\"-188.3\" font-family=\"Times,serif\" font-size=\"14.00\" fill=\"#000000\">MonthlyCharges&lt;20.7999992</text>\n</g>\n<!-- 5&#45;&gt;11 -->\n<g id=\"edge21\" class=\"edge\">\n<title>5&#45;&gt;11</title>\n<path fill=\"none\" stroke=\"#0000ff\" d=\"M1216.2528,-260.9735C1205.3492,-248.4919 1190.6716,-231.6899 1178.533,-217.7944\"/>\n<polygon fill=\"#0000ff\" stroke=\"#0000ff\" points=\"1180.9419,-215.2319 1171.7271,-210.0034 1175.6701,-219.8371 1180.9419,-215.2319\"/>\n<text text-anchor=\"middle\" x=\"1234.5\" y=\"-231.8\" font-family=\"Times,serif\" font-size=\"14.00\" fill=\"#000000\">yes, missing</text>\n</g>\n<!-- 12 -->\n<g id=\"node23\" class=\"node\">\n<title>12</title>\n<polygon fill=\"none\" stroke=\"#000000\" points=\"1463.5,-210 1270.5,-210 1270.5,-174 1463.5,-174 1463.5,-210\"/>\n<text text-anchor=\"middle\" x=\"1367\" y=\"-188.3\" font-family=\"Times,serif\" font-size=\"14.00\" fill=\"#000000\">MonthlyCharges&lt;27.5250015</text>\n</g>\n<!-- 5&#45;&gt;12 -->\n<g id=\"edge22\" class=\"edge\">\n<title>5&#45;&gt;12</title>\n<path fill=\"none\" stroke=\"#ff0000\" d=\"M1259.9721,-260.9735C1280.4263,-247.792 1308.3573,-229.792 1330.557,-215.4855\"/>\n<polygon fill=\"#ff0000\" stroke=\"#ff0000\" points=\"1332.554,-218.3624 1339.0637,-210.0034 1328.7621,-212.4784 1332.554,-218.3624\"/>\n<text text-anchor=\"middle\" x=\"1316\" y=\"-231.8\" font-family=\"Times,serif\" font-size=\"14.00\" fill=\"#000000\">no</text>\n</g>\n<!-- 13 -->\n<g id=\"node32\" class=\"node\">\n<title>13</title>\n<polygon fill=\"#d3d3d3\" stroke=\"#000000\" points=\"1606,-210 1482,-210 1482,-174 1606,-174 1606,-210\"/>\n<text text-anchor=\"middle\" x=\"1544\" y=\"-188.3\" font-family=\"Times,serif\" font-size=\"14.00\" fill=\"#000000\">leaf=0.162726223</text>\n</g>\n<!-- 6&#45;&gt;13 -->\n<g id=\"edge31\" class=\"edge\">\n<title>6&#45;&gt;13</title>\n<path fill=\"none\" stroke=\"#0000ff\" d=\"M1544,-260.9735C1544,-249.1918 1544,-233.5607 1544,-220.1581\"/>\n<polygon fill=\"#0000ff\" stroke=\"#0000ff\" points=\"1547.5001,-220.0033 1544,-210.0034 1540.5001,-220.0034 1547.5001,-220.0033\"/>\n<text text-anchor=\"middle\" x=\"1579.5\" y=\"-231.8\" font-family=\"Times,serif\" font-size=\"14.00\" fill=\"#000000\">yes, missing</text>\n</g>\n<!-- 14 -->\n<g id=\"node33\" class=\"node\">\n<title>14</title>\n<polygon fill=\"none\" stroke=\"#000000\" points=\"1857.5,-210 1624.5,-210 1624.5,-174 1857.5,-174 1857.5,-210\"/>\n<text text-anchor=\"middle\" x=\"1741\" y=\"-188.3\" font-family=\"Times,serif\" font-size=\"14.00\" fill=\"#000000\">PaymentMethod_Electronic_check&lt;1</text>\n</g>\n<!-- 6&#45;&gt;14 -->\n<g id=\"edge32\" class=\"edge\">\n<title>6&#45;&gt;14</title>\n<path fill=\"none\" stroke=\"#ff0000\" d=\"M1584.8185,-260.9735C1615.591,-247.3837 1657.9604,-228.6723 1690.8057,-214.167\"/>\n<polygon fill=\"#ff0000\" stroke=\"#ff0000\" points=\"1692.5001,-217.2449 1700.2338,-210.0034 1689.6721,-210.8416 1692.5001,-217.2449\"/>\n<text text-anchor=\"middle\" x=\"1663\" y=\"-231.8\" font-family=\"Times,serif\" font-size=\"14.00\" fill=\"#000000\">no</text>\n</g>\n<!-- 21 -->\n<g id=\"node24\" class=\"node\">\n<title>21</title>\n<polygon fill=\"none\" stroke=\"#000000\" points=\"1139,-123 967,-123 967,-87 1139,-87 1139,-123\"/>\n<text text-anchor=\"middle\" x=\"1053\" y=\"-101.3\" font-family=\"Times,serif\" font-size=\"14.00\" fill=\"#000000\">TotalCharges&lt;33.4000015</text>\n</g>\n<!-- 11&#45;&gt;21 -->\n<g id=\"edge23\" class=\"edge\">\n<title>11&#45;&gt;21</title>\n<path fill=\"none\" stroke=\"#0000ff\" d=\"M1131.296,-173.7028C1124.0141,-168.1428 1116.0979,-161.9322 1109,-156 1099.1466,-147.7649 1088.6616,-138.3912 1079.4609,-129.9459\"/>\n<polygon fill=\"#0000ff\" stroke=\"#0000ff\" points=\"1081.7941,-127.3364 1072.0763,-123.1157 1077.041,-132.4753 1081.7941,-127.3364\"/>\n<text text-anchor=\"middle\" x=\"1144.5\" y=\"-144.8\" font-family=\"Times,serif\" font-size=\"14.00\" fill=\"#000000\">yes, missing</text>\n</g>\n<!-- 22 -->\n<g id=\"node25\" class=\"node\">\n<title>22</title>\n<polygon fill=\"#d3d3d3\" stroke=\"#000000\" points=\"1281,-123 1157,-123 1157,-87 1281,-87 1281,-123\"/>\n<text text-anchor=\"middle\" x=\"1219\" y=\"-101.3\" font-family=\"Times,serif\" font-size=\"14.00\" fill=\"#000000\">leaf=0.127272725</text>\n</g>\n<!-- 11&#45;&gt;22 -->\n<g id=\"edge24\" class=\"edge\">\n<title>11&#45;&gt;22</title>\n<path fill=\"none\" stroke=\"#ff0000\" d=\"M1169.0536,-173.9735C1178.0076,-161.6085 1190.0319,-145.0036 1200.0387,-131.1847\"/>\n<polygon fill=\"#ff0000\" stroke=\"#ff0000\" points=\"1202.9327,-133.1556 1205.9631,-123.0034 1197.2631,-129.05 1202.9327,-133.1556\"/>\n<text text-anchor=\"middle\" x=\"1200\" y=\"-144.8\" font-family=\"Times,serif\" font-size=\"14.00\" fill=\"#000000\">no</text>\n</g>\n<!-- 23 -->\n<g id=\"node28\" class=\"node\">\n<title>23</title>\n<polygon fill=\"#d3d3d3\" stroke=\"#000000\" points=\"1435,-123 1299,-123 1299,-87 1435,-87 1435,-123\"/>\n<text text-anchor=\"middle\" x=\"1367\" y=\"-101.3\" font-family=\"Times,serif\" font-size=\"14.00\" fill=\"#000000\">leaf=&#45;0.0700000003</text>\n</g>\n<!-- 12&#45;&gt;23 -->\n<g id=\"edge27\" class=\"edge\">\n<title>12&#45;&gt;23</title>\n<path fill=\"none\" stroke=\"#0000ff\" d=\"M1367,-173.9735C1367,-162.1918 1367,-146.5607 1367,-133.1581\"/>\n<polygon fill=\"#0000ff\" stroke=\"#0000ff\" points=\"1370.5001,-133.0033 1367,-123.0034 1363.5001,-133.0034 1370.5001,-133.0033\"/>\n<text text-anchor=\"middle\" x=\"1402.5\" y=\"-144.8\" font-family=\"Times,serif\" font-size=\"14.00\" fill=\"#000000\">yes, missing</text>\n</g>\n<!-- 24 -->\n<g id=\"node29\" class=\"node\">\n<title>24</title>\n<polygon fill=\"none\" stroke=\"#000000\" points=\"1617,-123 1453,-123 1453,-87 1617,-87 1617,-123\"/>\n<text text-anchor=\"middle\" x=\"1535\" y=\"-101.3\" font-family=\"Times,serif\" font-size=\"14.00\" fill=\"#000000\">TotalCharges&lt;1257.0249</text>\n</g>\n<!-- 12&#45;&gt;24 -->\n<g id=\"edge28\" class=\"edge\">\n<title>12&#45;&gt;24</title>\n<path fill=\"none\" stroke=\"#ff0000\" d=\"M1405.737,-173.8975C1417.4529,-168.2907 1430.3092,-162.0058 1442,-156 1459.1151,-147.2076 1477.7527,-137.096 1493.8183,-128.207\"/>\n<polygon fill=\"#ff0000\" stroke=\"#ff0000\" points=\"1495.9079,-131.05 1502.9494,-123.1337 1492.5081,-124.931 1495.9079,-131.05\"/>\n<text text-anchor=\"middle\" x=\"1479\" y=\"-144.8\" font-family=\"Times,serif\" font-size=\"14.00\" fill=\"#000000\">no</text>\n</g>\n<!-- 39 -->\n<g id=\"node26\" class=\"node\">\n<title>39</title>\n<polygon fill=\"#d3d3d3\" stroke=\"#000000\" points=\"1042.5,-36 911.5,-36 911.5,0 1042.5,0 1042.5,-36\"/>\n<text text-anchor=\"middle\" x=\"977\" y=\"-14.3\" font-family=\"Times,serif\" font-size=\"14.00\" fill=\"#000000\">leaf=0.0734375045</text>\n</g>\n<!-- 21&#45;&gt;39 -->\n<g id=\"edge25\" class=\"edge\">\n<title>21&#45;&gt;39</title>\n<path fill=\"none\" stroke=\"#0000ff\" d=\"M1037.2528,-86.9735C1026.3492,-74.4919 1011.6716,-57.6899 999.533,-43.7944\"/>\n<polygon fill=\"#0000ff\" stroke=\"#0000ff\" points=\"1001.9419,-41.2319 992.7271,-36.0034 996.6701,-45.8371 1001.9419,-41.2319\"/>\n<text text-anchor=\"middle\" x=\"1055.5\" y=\"-57.8\" font-family=\"Times,serif\" font-size=\"14.00\" fill=\"#000000\">yes, missing</text>\n</g>\n<!-- 40 -->\n<g id=\"node27\" class=\"node\">\n<title>40</title>\n<polygon fill=\"#d3d3d3\" stroke=\"#000000\" points=\"1197,-36 1061,-36 1061,0 1197,0 1197,-36\"/>\n<text text-anchor=\"middle\" x=\"1129\" y=\"-14.3\" font-family=\"Times,serif\" font-size=\"14.00\" fill=\"#000000\">leaf=&#45;0.0680203065</text>\n</g>\n<!-- 21&#45;&gt;40 -->\n<g id=\"edge26\" class=\"edge\">\n<title>21&#45;&gt;40</title>\n<path fill=\"none\" stroke=\"#ff0000\" d=\"M1076.7186,-86.6363C1082.9853,-81.2726 1089.5225,-75.1815 1095,-69 1101.5303,-61.6304 1107.7818,-52.9253 1113.1029,-44.813\"/>\n<polygon fill=\"#ff0000\" stroke=\"#ff0000\" points=\"1116.0802,-46.6534 1118.4808,-36.3342 1110.169,-42.904 1116.0802,-46.6534\"/>\n<text text-anchor=\"middle\" x=\"1115\" y=\"-57.8\" font-family=\"Times,serif\" font-size=\"14.00\" fill=\"#000000\">no</text>\n</g>\n<!-- 45 -->\n<g id=\"node30\" class=\"node\">\n<title>45</title>\n<polygon fill=\"#d3d3d3\" stroke=\"#000000\" points=\"1460.5,-36 1329.5,-36 1329.5,0 1460.5,0 1460.5,-36\"/>\n<text text-anchor=\"middle\" x=\"1395\" y=\"-14.3\" font-family=\"Times,serif\" font-size=\"14.00\" fill=\"#000000\">leaf=0.0568807386</text>\n</g>\n<!-- 24&#45;&gt;45 -->\n<g id=\"edge29\" class=\"edge\">\n<title>24&#45;&gt;45</title>\n<path fill=\"none\" stroke=\"#0000ff\" d=\"M1497.9358,-86.8915C1487.4422,-81.4361 1476.1249,-75.2341 1466,-69 1452.7928,-60.868 1438.8155,-51.1012 1426.7878,-42.3008\"/>\n<polygon fill=\"#0000ff\" stroke=\"#0000ff\" points=\"1428.5329,-39.2379 1418.4132,-36.1006 1424.3677,-44.8639 1428.5329,-39.2379\"/>\n<text text-anchor=\"middle\" x=\"1501.5\" y=\"-57.8\" font-family=\"Times,serif\" font-size=\"14.00\" fill=\"#000000\">yes, missing</text>\n</g>\n<!-- 46 -->\n<g id=\"node31\" class=\"node\">\n<title>46</title>\n<polygon fill=\"#d3d3d3\" stroke=\"#000000\" points=\"1615,-36 1479,-36 1479,0 1615,0 1615,-36\"/>\n<text text-anchor=\"middle\" x=\"1547\" y=\"-14.3\" font-family=\"Times,serif\" font-size=\"14.00\" fill=\"#000000\">leaf=&#45;0.0200692043</text>\n</g>\n<!-- 24&#45;&gt;46 -->\n<g id=\"edge30\" class=\"edge\">\n<title>24&#45;&gt;46</title>\n<path fill=\"none\" stroke=\"#ff0000\" d=\"M1537.4864,-86.9735C1539.1115,-75.1918 1541.2675,-59.5607 1543.1161,-46.1581\"/>\n<polygon fill=\"#ff0000\" stroke=\"#ff0000\" points=\"1546.6175,-46.3878 1544.5168,-36.0034 1539.6831,-45.4313 1546.6175,-46.3878\"/>\n<text text-anchor=\"middle\" x=\"1550\" y=\"-57.8\" font-family=\"Times,serif\" font-size=\"14.00\" fill=\"#000000\">no</text>\n</g>\n<!-- 27 -->\n<g id=\"node34\" class=\"node\">\n<title>27</title>\n<polygon fill=\"none\" stroke=\"#000000\" points=\"1830.5,-123 1637.5,-123 1637.5,-87 1830.5,-87 1830.5,-123\"/>\n<text text-anchor=\"middle\" x=\"1734\" y=\"-101.3\" font-family=\"Times,serif\" font-size=\"14.00\" fill=\"#000000\">MonthlyCharges&lt;83.2749939</text>\n</g>\n<!-- 14&#45;&gt;27 -->\n<g id=\"edge33\" class=\"edge\">\n<title>14&#45;&gt;27</title>\n<path fill=\"none\" stroke=\"#0000ff\" d=\"M1739.5496,-173.9735C1738.6016,-162.1918 1737.344,-146.5607 1736.2656,-133.1581\"/>\n<polygon fill=\"#0000ff\" stroke=\"#0000ff\" points=\"1739.7394,-132.6904 1735.4485,-123.0034 1732.7619,-133.2519 1739.7394,-132.6904\"/>\n<text text-anchor=\"middle\" x=\"1773.5\" y=\"-144.8\" font-family=\"Times,serif\" font-size=\"14.00\" fill=\"#000000\">yes, missing</text>\n</g>\n<!-- 28 -->\n<g id=\"node35\" class=\"node\">\n<title>28</title>\n<polygon fill=\"#d3d3d3\" stroke=\"#000000\" points=\"1973,-123 1849,-123 1849,-87 1973,-87 1973,-123\"/>\n<text text-anchor=\"middle\" x=\"1911\" y=\"-101.3\" font-family=\"Times,serif\" font-size=\"14.00\" fill=\"#000000\">leaf=0.123838082</text>\n</g>\n<!-- 14&#45;&gt;28 -->\n<g id=\"edge34\" class=\"edge\">\n<title>14&#45;&gt;28</title>\n<path fill=\"none\" stroke=\"#ff0000\" d=\"M1777.3166,-173.9848C1788.7546,-168.2725 1801.4224,-161.9064 1813,-156 1830.8752,-146.8808 1850.5083,-136.697 1867.4768,-127.8419\"/>\n<polygon fill=\"#ff0000\" stroke=\"#ff0000\" points=\"1869.3592,-130.8074 1876.6015,-123.0744 1866.1176,-124.6032 1869.3592,-130.8074\"/>\n<text text-anchor=\"middle\" x=\"1847\" y=\"-144.8\" font-family=\"Times,serif\" font-size=\"14.00\" fill=\"#000000\">no</text>\n</g>\n<!-- 47 -->\n<g id=\"node36\" class=\"node\">\n<title>47</title>\n<polygon fill=\"#d3d3d3\" stroke=\"#000000\" points=\"1786.5,-36 1655.5,-36 1655.5,0 1786.5,0 1786.5,-36\"/>\n<text text-anchor=\"middle\" x=\"1721\" y=\"-14.3\" font-family=\"Times,serif\" font-size=\"14.00\" fill=\"#000000\">leaf=0.0285714306</text>\n</g>\n<!-- 27&#45;&gt;47 -->\n<g id=\"edge35\" class=\"edge\">\n<title>27&#45;&gt;47</title>\n<path fill=\"none\" stroke=\"#0000ff\" d=\"M1731.3064,-86.9735C1729.5459,-75.1918 1727.2102,-59.5607 1725.2075,-46.1581\"/>\n<polygon fill=\"#0000ff\" stroke=\"#0000ff\" points=\"1728.6297,-45.3763 1723.6902,-36.0034 1721.7065,-46.4108 1728.6297,-45.3763\"/>\n<text text-anchor=\"middle\" x=\"1764.5\" y=\"-57.8\" font-family=\"Times,serif\" font-size=\"14.00\" fill=\"#000000\">yes, missing</text>\n</g>\n<!-- 48 -->\n<g id=\"node37\" class=\"node\">\n<title>48</title>\n<polygon fill=\"#d3d3d3\" stroke=\"#000000\" points=\"1929,-36 1805,-36 1805,0 1929,0 1929,-36\"/>\n<text text-anchor=\"middle\" x=\"1867\" y=\"-14.3\" font-family=\"Times,serif\" font-size=\"14.00\" fill=\"#000000\">leaf=0.087878786</text>\n</g>\n<!-- 27&#45;&gt;48 -->\n<g id=\"edge36\" class=\"edge\">\n<title>27&#45;&gt;48</title>\n<path fill=\"none\" stroke=\"#ff0000\" d=\"M1772.5841,-86.9501C1783.0249,-81.5876 1794.1551,-75.4187 1804,-69 1816.0238,-61.1607 1828.4675,-51.472 1839.0877,-42.6521\"/>\n<polygon fill=\"#ff0000\" stroke=\"#ff0000\" points=\"1841.4369,-45.2493 1846.8165,-36.1219 1836.9191,-39.9024 1841.4369,-45.2493\"/>\n<text text-anchor=\"middle\" x=\"1832\" y=\"-57.8\" font-family=\"Times,serif\" font-size=\"14.00\" fill=\"#000000\">no</text>\n</g>\n</g>\n</svg>\n"
          },
          "metadata": {
            "tags": []
          },
          "execution_count": 83
        }
      ]
    },
    {
      "cell_type": "code",
      "metadata": {
        "id": "WNlOfNvUGQoU"
      },
      "source": [
        "#saving model\n",
        "best_xgb.save_model('/content/drive/MyDrive/Colab Notebooks/assign2/churnassignment.json')"
      ],
      "execution_count": 86,
      "outputs": []
    }
  ]
}